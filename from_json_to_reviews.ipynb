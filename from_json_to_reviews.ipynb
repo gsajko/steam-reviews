{
 "cells": [
  {
   "cell_type": "markdown",
   "metadata": {},
   "source": [
    "# Preporcessing of raw `json` files"
   ]
  },
  {
   "cell_type": "code",
   "execution_count": 1,
   "metadata": {},
   "outputs": [],
   "source": [
    "import re\n",
    "import pandas as pd\n",
    "import pickle"
   ]
  },
  {
   "cell_type": "markdown",
   "metadata": {
    "heading_collapsed": true
   },
   "source": [
    "## Concating scraped `json` files"
   ]
  },
  {
   "cell_type": "code",
   "execution_count": 18,
   "metadata": {
    "hidden": true
   },
   "outputs": [
    {
     "name": "stdout",
     "output_type": "stream",
     "text": [
      "./scraped-reviews/reviews1.json  738665 reviews added, reviews total: 738665\n",
      "./scraped-reviews/reviews2.json  351611 reviews added, reviews total: 1090276\n",
      "./scraped-reviews/reviews3.json  461333 reviews added, reviews total: 1551609\n",
      "./scraped-reviews/reviews4.json  408304 reviews added, reviews total: 1959913\n",
      "./scraped-reviews/reviews5.json  380671 reviews added, reviews total: 2340584\n",
      "./scraped-reviews/reviews6.json  333118 reviews added, reviews total: 2673702\n",
      "./scraped-reviews/reviews7.json  351287 reviews added, reviews total: 3024989\n",
      "./scraped-reviews/reviews8.json  472504 reviews added, reviews total: 3497493\n",
      "./scraped-reviews/reviews9.json  271133 reviews added, reviews total: 3768626\n",
      "./scraped-reviews/reviews10.json  338894 reviews added, reviews total: 4107520\n",
      "./scraped-reviews/reviews11.json  498784 reviews added, reviews total: 4606304\n",
      "./scraped-reviews/reviews12.json  291460 reviews added, reviews total: 4897764\n",
      "./scraped-reviews/reviews13.json  445080 reviews added, reviews total: 5342844\n",
      "./scraped-reviews/reviews14.json  445918 reviews added, reviews total: 5788762\n",
      "./scraped-reviews/reviews15.json  301246 reviews added, reviews total: 6090008\n",
      "./scraped-reviews/reviews16.json  464643 reviews added, reviews total: 6554651\n",
      "./scraped-reviews/reviews17.json  303555 reviews added, reviews total: 6858206\n",
      "./scraped-reviews/reviews18.json  373378 reviews added, reviews total: 7231584\n",
      "./scraped-reviews/reviews19.json  376737 reviews added, reviews total: 7608321\n",
      "./scraped-reviews/reviews20.json  549822 reviews added, reviews total: 8158143\n",
      "CPU times: user 2min 1s, sys: 11.2 s, total: 2min 12s\n",
      "Wall time: 2min 17s\n"
     ]
    }
   ],
   "source": [
    "%%time\n",
    "df = pd.DataFrame()\n",
    "# loading 20 json files to dataframe\n",
    "x = list(range(1, 21))\n",
    "for i in x:\n",
    "    file_path = f\"./scraped-reviews/reviews{x[(i-1)]}.json\"\n",
    "    reviews = pd.read_json(file_path)\n",
    "    df = pd.concat([df, reviews], sort=False)\n",
    "    print(f\"{file_path}  {reviews.shape[0]} reviews added, reviews total: {df.shape[0]}\")"
   ]
  },
  {
   "cell_type": "code",
   "execution_count": 19,
   "metadata": {
    "hidden": true
   },
   "outputs": [
    {
     "name": "stdout",
     "output_type": "stream",
     "text": [
      "CPU times: user 12.2 s, sys: 3.35 s, total: 15.6 s\n",
      "Wall time: 24.8 s\n"
     ]
    }
   ],
   "source": [
    "%%time\n",
    "# let's save our dataframe. Using pickle, because h5 was throwing error at me\n",
    "df.to_pickle(\"steam_reviews.pkl\")"
   ]
  },
  {
   "cell_type": "markdown",
   "metadata": {
    "heading_collapsed": true
   },
   "source": [
    "## Creating review file"
   ]
  },
  {
   "cell_type": "code",
   "execution_count": 11,
   "metadata": {
    "hidden": true
   },
   "outputs": [],
   "source": [
    "df = pd.read_pickle(\"steam_reviews.pkl\")"
   ]
  },
  {
   "cell_type": "code",
   "execution_count": 21,
   "metadata": {
    "hidden": true
   },
   "outputs": [
    {
     "data": {
      "text/html": [
       "<div>\n",
       "<style scoped>\n",
       "    .dataframe tbody tr th:only-of-type {\n",
       "        vertical-align: middle;\n",
       "    }\n",
       "\n",
       "    .dataframe tbody tr th {\n",
       "        vertical-align: top;\n",
       "    }\n",
       "\n",
       "    .dataframe thead th {\n",
       "        text-align: right;\n",
       "    }\n",
       "</style>\n",
       "<table border=\"1\" class=\"dataframe\">\n",
       "  <thead>\n",
       "    <tr style=\"text-align: right;\">\n",
       "      <th></th>\n",
       "      <th>product_id</th>\n",
       "      <th>page</th>\n",
       "      <th>page_order</th>\n",
       "      <th>recommended</th>\n",
       "      <th>date</th>\n",
       "      <th>text</th>\n",
       "      <th>hours</th>\n",
       "      <th>user_id</th>\n",
       "      <th>username</th>\n",
       "      <th>products</th>\n",
       "      <th>early_access</th>\n",
       "      <th>found_funny</th>\n",
       "      <th>compensation</th>\n",
       "    </tr>\n",
       "  </thead>\n",
       "  <tbody>\n",
       "    <tr>\n",
       "      <th>0</th>\n",
       "      <td>646380.0</td>\n",
       "      <td>1.0</td>\n",
       "      <td>0</td>\n",
       "      <td>1.0</td>\n",
       "      <td>27 December, 2017</td>\n",
       "      <td>Realistic simulation of a trip to and from a t...</td>\n",
       "      <td>0.7</td>\n",
       "      <td>7.656120e+16</td>\n",
       "      <td>turkuquantum</td>\n",
       "      <td>49.0</td>\n",
       "      <td>False</td>\n",
       "      <td>NaN</td>\n",
       "      <td>NaN</td>\n",
       "    </tr>\n",
       "    <tr>\n",
       "      <th>1</th>\n",
       "      <td>646380.0</td>\n",
       "      <td>1.0</td>\n",
       "      <td>1</td>\n",
       "      <td>1.0</td>\n",
       "      <td>23 December, 2017</td>\n",
       "      <td>Starting the game is a pain, I think you have ...</td>\n",
       "      <td>0.2</td>\n",
       "      <td>NaN</td>\n",
       "      <td>FastLawyer</td>\n",
       "      <td>3569.0</td>\n",
       "      <td>False</td>\n",
       "      <td>1.0</td>\n",
       "      <td>NaN</td>\n",
       "    </tr>\n",
       "    <tr>\n",
       "      <th>2</th>\n",
       "      <td>646380.0</td>\n",
       "      <td>1.0</td>\n",
       "      <td>2</td>\n",
       "      <td>1.0</td>\n",
       "      <td>8 December, 2017</td>\n",
       "      <td>Like casual skiing but don't have the possibil...</td>\n",
       "      <td>2.3</td>\n",
       "      <td>NaN</td>\n",
       "      <td>Cookie95</td>\n",
       "      <td>197.0</td>\n",
       "      <td>False</td>\n",
       "      <td>NaN</td>\n",
       "      <td>NaN</td>\n",
       "    </tr>\n",
       "    <tr>\n",
       "      <th>3</th>\n",
       "      <td>646380.0</td>\n",
       "      <td>1.0</td>\n",
       "      <td>3</td>\n",
       "      <td>1.0</td>\n",
       "      <td>7 December, 2017</td>\n",
       "      <td>Very tough workout :D\\nBought at a discount. T...</td>\n",
       "      <td>0.3</td>\n",
       "      <td>7.656120e+16</td>\n",
       "      <td>S0_GosU</td>\n",
       "      <td>79.0</td>\n",
       "      <td>False</td>\n",
       "      <td>NaN</td>\n",
       "      <td>NaN</td>\n",
       "    </tr>\n",
       "    <tr>\n",
       "      <th>4</th>\n",
       "      <td>646380.0</td>\n",
       "      <td>1.0</td>\n",
       "      <td>4</td>\n",
       "      <td>0.0</td>\n",
       "      <td>23 July, 2017</td>\n",
       "      <td>I like the concept. I don't like that I stear ...</td>\n",
       "      <td>0.1</td>\n",
       "      <td>NaN</td>\n",
       "      <td>EntropyQ |FP|</td>\n",
       "      <td>115.0</td>\n",
       "      <td>False</td>\n",
       "      <td>NaN</td>\n",
       "      <td>NaN</td>\n",
       "    </tr>\n",
       "  </tbody>\n",
       "</table>\n",
       "</div>"
      ],
      "text/plain": [
       "   product_id  page  page_order  recommended               date  \\\n",
       "0    646380.0   1.0           0          1.0  27 December, 2017   \n",
       "1    646380.0   1.0           1          1.0  23 December, 2017   \n",
       "2    646380.0   1.0           2          1.0   8 December, 2017   \n",
       "3    646380.0   1.0           3          1.0   7 December, 2017   \n",
       "4    646380.0   1.0           4          0.0      23 July, 2017   \n",
       "\n",
       "                                                text  hours       user_id  \\\n",
       "0  Realistic simulation of a trip to and from a t...    0.7  7.656120e+16   \n",
       "1  Starting the game is a pain, I think you have ...    0.2           NaN   \n",
       "2  Like casual skiing but don't have the possibil...    2.3           NaN   \n",
       "3  Very tough workout :D\\nBought at a discount. T...    0.3  7.656120e+16   \n",
       "4  I like the concept. I don't like that I stear ...    0.1           NaN   \n",
       "\n",
       "        username  products  early_access  found_funny compensation  \n",
       "0   turkuquantum      49.0         False          NaN          NaN  \n",
       "1     FastLawyer    3569.0         False          1.0          NaN  \n",
       "2       Cookie95     197.0         False          NaN          NaN  \n",
       "3        S0_GosU      79.0         False          NaN          NaN  \n",
       "4  EntropyQ |FP|     115.0         False          NaN          NaN  "
      ]
     },
     "execution_count": 21,
     "metadata": {},
     "output_type": "execute_result"
    }
   ],
   "source": [
    "df.head()"
   ]
  },
  {
   "cell_type": "code",
   "execution_count": 22,
   "metadata": {
    "hidden": true
   },
   "outputs": [],
   "source": [
    "# for a collaborative filter, we'll need only those columns\n",
    "reviews = df[[\"product_id\", \"recommended\", \"date\", \"user_id\", \"username\"]]"
   ]
  },
  {
   "cell_type": "code",
   "execution_count": 23,
   "metadata": {
    "hidden": true
   },
   "outputs": [
    {
     "data": {
      "text/html": [
       "<div>\n",
       "<style scoped>\n",
       "    .dataframe tbody tr th:only-of-type {\n",
       "        vertical-align: middle;\n",
       "    }\n",
       "\n",
       "    .dataframe tbody tr th {\n",
       "        vertical-align: top;\n",
       "    }\n",
       "\n",
       "    .dataframe thead th {\n",
       "        text-align: right;\n",
       "    }\n",
       "</style>\n",
       "<table border=\"1\" class=\"dataframe\">\n",
       "  <thead>\n",
       "    <tr style=\"text-align: right;\">\n",
       "      <th></th>\n",
       "      <th>product_id</th>\n",
       "      <th>recommended</th>\n",
       "      <th>date</th>\n",
       "      <th>user_id</th>\n",
       "      <th>username</th>\n",
       "    </tr>\n",
       "  </thead>\n",
       "  <tbody>\n",
       "    <tr>\n",
       "      <th>0</th>\n",
       "      <td>646380.0</td>\n",
       "      <td>1.0</td>\n",
       "      <td>27 December, 2017</td>\n",
       "      <td>7.656120e+16</td>\n",
       "      <td>turkuquantum</td>\n",
       "    </tr>\n",
       "    <tr>\n",
       "      <th>1</th>\n",
       "      <td>646380.0</td>\n",
       "      <td>1.0</td>\n",
       "      <td>23 December, 2017</td>\n",
       "      <td>NaN</td>\n",
       "      <td>FastLawyer</td>\n",
       "    </tr>\n",
       "    <tr>\n",
       "      <th>2</th>\n",
       "      <td>646380.0</td>\n",
       "      <td>1.0</td>\n",
       "      <td>8 December, 2017</td>\n",
       "      <td>NaN</td>\n",
       "      <td>Cookie95</td>\n",
       "    </tr>\n",
       "    <tr>\n",
       "      <th>3</th>\n",
       "      <td>646380.0</td>\n",
       "      <td>1.0</td>\n",
       "      <td>7 December, 2017</td>\n",
       "      <td>7.656120e+16</td>\n",
       "      <td>S0_GosU</td>\n",
       "    </tr>\n",
       "    <tr>\n",
       "      <th>4</th>\n",
       "      <td>646380.0</td>\n",
       "      <td>0.0</td>\n",
       "      <td>23 July, 2017</td>\n",
       "      <td>NaN</td>\n",
       "      <td>EntropyQ |FP|</td>\n",
       "    </tr>\n",
       "  </tbody>\n",
       "</table>\n",
       "</div>"
      ],
      "text/plain": [
       "   product_id  recommended               date       user_id       username\n",
       "0    646380.0          1.0  27 December, 2017  7.656120e+16   turkuquantum\n",
       "1    646380.0          1.0  23 December, 2017           NaN     FastLawyer\n",
       "2    646380.0          1.0   8 December, 2017           NaN       Cookie95\n",
       "3    646380.0          1.0   7 December, 2017  7.656120e+16        S0_GosU\n",
       "4    646380.0          0.0      23 July, 2017           NaN  EntropyQ |FP|"
      ]
     },
     "execution_count": 23,
     "metadata": {},
     "output_type": "execute_result"
    }
   ],
   "source": [
    "reviews.head()"
   ]
  },
  {
   "cell_type": "code",
   "execution_count": 24,
   "metadata": {
    "hidden": true
   },
   "outputs": [
    {
     "data": {
      "text/plain": [
       "(8158143, 5)"
      ]
     },
     "execution_count": 24,
     "metadata": {},
     "output_type": "execute_result"
    }
   ],
   "source": [
    "reviews.shape"
   ]
  },
  {
   "cell_type": "code",
   "execution_count": 26,
   "metadata": {
    "hidden": true
   },
   "outputs": [],
   "source": [
    "reviews.to_pickle(\"reviews.pkl\")"
   ]
  },
  {
   "cell_type": "markdown",
   "metadata": {
    "heading_collapsed": true
   },
   "source": [
    "## Exploring dataset"
   ]
  },
  {
   "cell_type": "code",
   "execution_count": 27,
   "metadata": {
    "hidden": true
   },
   "outputs": [],
   "source": [
    "reviews = pd.read_pickle(\"reviews.pkl\")"
   ]
  },
  {
   "cell_type": "code",
   "execution_count": 29,
   "metadata": {
    "hidden": true
   },
   "outputs": [
    {
     "data": {
      "text/plain": [
       "count     23863.000000\n",
       "mean        341.873151\n",
       "std        1969.881854\n",
       "min           1.000000\n",
       "25%           7.000000\n",
       "50%          23.000000\n",
       "75%         104.000000\n",
       "max      117608.000000\n",
       "Name: product_id, dtype: float64"
      ]
     },
     "execution_count": 29,
     "metadata": {},
     "output_type": "execute_result"
    }
   ],
   "source": [
    "# how many reviews games have?\n",
    "reviews[\"product_id\"].value_counts().describe()"
   ]
  },
  {
   "cell_type": "code",
   "execution_count": 28,
   "metadata": {
    "hidden": true,
    "scrolled": false
   },
   "outputs": [
    {
     "data": {
      "text/plain": [
       "count    2978839.000000\n",
       "mean           2.737019\n",
       "std            9.868180\n",
       "min            1.000000\n",
       "25%            1.000000\n",
       "50%            1.000000\n",
       "75%            2.000000\n",
       "max         3850.000000\n",
       "Name: username, dtype: object"
      ]
     },
     "execution_count": 28,
     "metadata": {},
     "output_type": "execute_result"
    }
   ],
   "source": [
    "# how many games each user had reviewed?\n",
    "reviews[\"username\"].value_counts().describe().apply(lambda x: format(x, \"f\"))"
   ]
  },
  {
   "cell_type": "code",
   "execution_count": 33,
   "metadata": {
    "hidden": true
   },
   "outputs": [],
   "source": [
    "reviews_per_user = reviews[\"username\"].value_counts()"
   ]
  },
  {
   "cell_type": "code",
   "execution_count": 34,
   "metadata": {
    "hidden": true
   },
   "outputs": [],
   "source": [
    "reviews_per_user = reviews_per_user.to_frame()\n",
    "reviews_per_user = reviews_per_user.reset_index()\n",
    "reviews_per_user.columns = [\"username\", \"reviews\"]"
   ]
  },
  {
   "cell_type": "code",
   "execution_count": 35,
   "metadata": {
    "hidden": true
   },
   "outputs": [
    {
     "data": {
      "text/html": [
       "<div>\n",
       "<style scoped>\n",
       "    .dataframe tbody tr th:only-of-type {\n",
       "        vertical-align: middle;\n",
       "    }\n",
       "\n",
       "    .dataframe tbody tr th {\n",
       "        vertical-align: top;\n",
       "    }\n",
       "\n",
       "    .dataframe thead th {\n",
       "        text-align: right;\n",
       "    }\n",
       "</style>\n",
       "<table border=\"1\" class=\"dataframe\">\n",
       "  <thead>\n",
       "    <tr style=\"text-align: right;\">\n",
       "      <th></th>\n",
       "      <th>username</th>\n",
       "      <th>reviews</th>\n",
       "    </tr>\n",
       "  </thead>\n",
       "  <tbody>\n",
       "    <tr>\n",
       "      <th>0</th>\n",
       "      <td>123</td>\n",
       "      <td>3850</td>\n",
       "    </tr>\n",
       "    <tr>\n",
       "      <th>1</th>\n",
       "      <td>[deleted]</td>\n",
       "      <td>3517</td>\n",
       "    </tr>\n",
       "    <tr>\n",
       "      <th>2</th>\n",
       "      <td>ForGamezCZ</td>\n",
       "      <td>2701</td>\n",
       "    </tr>\n",
       "    <tr>\n",
       "      <th>3</th>\n",
       "      <td>#</td>\n",
       "      <td>2649</td>\n",
       "    </tr>\n",
       "    <tr>\n",
       "      <th>4</th>\n",
       "      <td>Alex</td>\n",
       "      <td>1938</td>\n",
       "    </tr>\n",
       "    <tr>\n",
       "      <th>5</th>\n",
       "      <td>Epoc</td>\n",
       "      <td>1577</td>\n",
       "    </tr>\n",
       "    <tr>\n",
       "      <th>6</th>\n",
       "      <td>Chris</td>\n",
       "      <td>1492</td>\n",
       "    </tr>\n",
       "    <tr>\n",
       "      <th>7</th>\n",
       "      <td>Obey the Fist!</td>\n",
       "      <td>1470</td>\n",
       "    </tr>\n",
       "    <tr>\n",
       "      <th>8</th>\n",
       "      <td>Nick</td>\n",
       "      <td>1428</td>\n",
       "    </tr>\n",
       "    <tr>\n",
       "      <th>9</th>\n",
       "      <td>Salarn</td>\n",
       "      <td>1357</td>\n",
       "    </tr>\n",
       "  </tbody>\n",
       "</table>\n",
       "</div>"
      ],
      "text/plain": [
       "         username  reviews\n",
       "0             123     3850\n",
       "1       [deleted]     3517\n",
       "2      ForGamezCZ     2701\n",
       "3               #     2649\n",
       "4            Alex     1938\n",
       "5            Epoc     1577\n",
       "6           Chris     1492\n",
       "7  Obey the Fist!     1470\n",
       "8            Nick     1428\n",
       "9          Salarn     1357"
      ]
     },
     "execution_count": 35,
     "metadata": {},
     "output_type": "execute_result"
    }
   ],
   "source": [
    "reviews_per_user.head(10)"
   ]
  },
  {
   "cell_type": "code",
   "execution_count": 40,
   "metadata": {
    "hidden": true,
    "scrolled": true
   },
   "outputs": [
    {
     "data": {
      "text/plain": [
       "(39614, 2)"
      ]
     },
     "execution_count": 40,
     "metadata": {},
     "output_type": "execute_result"
    }
   ],
   "source": [
    "# let's see how many users have 20 or more reviews\n",
    "reviews_per_user[reviews_per_user.iloc[:, 1] > 19].shape"
   ]
  },
  {
   "cell_type": "code",
   "execution_count": 42,
   "metadata": {
    "hidden": true
   },
   "outputs": [
    {
     "data": {
      "text/plain": [
       "1735374"
      ]
     },
     "execution_count": 42,
     "metadata": {},
     "output_type": "execute_result"
    }
   ],
   "source": [
    "# Let's see how many reviews we'll have in dataset, after droping top 100 (outliers, who writes 3000 reviews???)\n",
    "# and keeping only users with 20 or more reviews\n",
    "reviews_per_user[\"reviews\"].iloc[100:36638].sum()"
   ]
  },
  {
   "cell_type": "code",
   "execution_count": 44,
   "metadata": {
    "hidden": true
   },
   "outputs": [],
   "source": [
    "user_small = reviews_per_user.iloc[100:36638]"
   ]
  },
  {
   "cell_type": "code",
   "execution_count": 45,
   "metadata": {
    "hidden": true
   },
   "outputs": [
    {
     "data": {
      "text/plain": [
       "(36538, 2)"
      ]
     },
     "execution_count": 45,
     "metadata": {},
     "output_type": "execute_result"
    }
   ],
   "source": [
    "user_small.shape"
   ]
  },
  {
   "cell_type": "code",
   "execution_count": 46,
   "metadata": {
    "hidden": true
   },
   "outputs": [
    {
     "data": {
      "text/plain": [
       "count    36538.000000\n",
       "mean        47.495046\n",
       "std         47.374179\n",
       "min         21.000000\n",
       "25%         25.000000\n",
       "50%         32.000000\n",
       "75%         49.000000\n",
       "max        538.000000\n",
       "Name: reviews, dtype: float64"
      ]
     },
     "execution_count": 46,
     "metadata": {},
     "output_type": "execute_result"
    }
   ],
   "source": [
    "user_small[\"reviews\"].describe()"
   ]
  },
  {
   "cell_type": "code",
   "execution_count": 47,
   "metadata": {
    "hidden": true
   },
   "outputs": [],
   "source": [
    "user_small = user_small.reset_index(drop=True)"
   ]
  },
  {
   "cell_type": "code",
   "execution_count": 48,
   "metadata": {
    "hidden": true
   },
   "outputs": [
    {
     "name": "stdout",
     "output_type": "stream",
     "text": [
      "[               username  reviews\n",
      "0                 Jesus      538\n",
      "1                  Andy      537\n",
      "2              Big Boss      527\n",
      "3                  Sean      527\n",
      "4      PhantonGualterio      525\n",
      "5                 Snake      525\n",
      "6                Frosty      520\n",
      "7            Dick Rambo      520\n",
      "8               Beridok      519\n",
      "9    Tocăniță de jocuri      519\n",
      "10                 Grim      518\n",
      "11                Frost      518\n",
      "12             bigh ◢ ◤      516\n",
      "13               Wungle      515\n",
      "14                 Will      515\n",
      "15                  Leo      511\n",
      "16                MGRza      510\n",
      "17                 Dark      504\n",
      "18                Cross      501\n",
      "19                Stiff      500\n",
      "20           ♿ Svinhugg      500\n",
      "21                 Duck      498\n",
      "22                  YCh      491\n",
      "23                   :)      490\n",
      "24             ᵂᴬᴸᴸᴱᴿ ❤      489\n",
      "25                Jacob      486\n",
      "26                Aaron      486\n",
      "27                   󠀡󠀡      486\n",
      "28                Jason      484\n",
      "29                  Neo      482\n",
      "30                 Rain      482\n",
      "31                Nexiu      478\n",
      "32                 Rick      477\n",
      "33           Redrusty66      476\n",
      "34                KU83K      476\n",
      "35             Zocker96      476\n",
      "36               Nobody      475\n",
      "37                  Cat      474\n",
      "38         Strayed Lynx      473\n",
      "39                Cyril      472\n",
      "40                Jimmy      471\n",
      "41                  Jim      470\n",
      "42                Danny      470\n",
      "43               Apollo      470\n",
      "44                Peter      463\n",
      "45           みoƦƦoƦ ₣o父      463\n",
      "46               Silver      462\n",
      "47               George      462\n",
      "48                 Paul      462\n",
      "49   The Horror Network      462\n",
      "50                Moose      462\n",
      "51                Toast      461\n",
      "52        B a l l a g e      458\n",
      "53                Dante      458\n",
      "54                 Tony      452\n",
      "55             Helevorn      450\n",
      "56               nauvoo      450\n",
      "57  Yella | ʍιhαεlα ᵛᴸᶜ      450\n",
      "58                Alpha      445\n",
      "59                 Echo      443\n",
      "60             ^7ja^1co      440\n",
      "61                Shiro      438\n",
      "62              talgaby      437\n",
      "63              👌🏻🐸🥛KEK      437\n",
      "64                Goose      434\n",
      "65                Rusty      434\n",
      "66                Chaos      434\n",
      "67               Dustin      434\n",
      "68                 Fish      431\n",
      "69               Thomas      428\n",
      "70                 Crow      427\n",
      "71              Richard      425\n",
      "72                Lemon      423\n",
      "73                Simon      421\n",
      "74                iddqd      420\n",
      "75                  Doc      419\n",
      "76                Dylan      417\n",
      "77            Zaxtor99™      416\n",
      "78               Nomine      415\n",
      "79                  Nox      414\n",
      "80            LL KooL K      413\n",
      "81       The_Cpt_FROGGY      413\n",
      "82           rjmacready      412\n",
      "83                Storm      412\n",
      "84                 Moon      411\n",
      "85                 Eric      411\n",
      "86                Blaze      411\n",
      "87                  Ian      409\n",
      "88               Johnny      408\n",
      "89                    󠀡      408\n",
      "90            Alexander      408\n",
      "91             Maverick      406\n",
      "92                  Sky      405\n",
      "93            Seneschul      402\n",
      "94              GasMask      402\n",
      "95                Brian      402\n",
      "96                Robin      402\n",
      "97                 Nate      401\n",
      "98                Jerry      401\n",
      "99                  Rob      400]\n"
     ]
    }
   ],
   "source": [
    "with pd.option_context(\n",
    "    \"display.max_rows\", None, \"display.max_columns\", None\n",
    "):  # more options can be specified also\n",
    "    print([user_small.iloc[:100]])"
   ]
  },
  {
   "cell_type": "code",
   "execution_count": 57,
   "metadata": {
    "hidden": true
   },
   "outputs": [],
   "source": [
    "# I see some wierd `blank` users"
   ]
  },
  {
   "cell_type": "code",
   "execution_count": 58,
   "metadata": {
    "hidden": true
   },
   "outputs": [
    {
     "data": {
      "text/plain": [
       "'\\U000e0021\\U000e0021'"
      ]
     },
     "execution_count": 58,
     "metadata": {},
     "output_type": "execute_result"
    }
   ],
   "source": [
    "user_small.iloc[27,0]"
   ]
  },
  {
   "cell_type": "code",
   "execution_count": 59,
   "metadata": {
    "hidden": true
   },
   "outputs": [
    {
     "data": {
      "text/plain": [
       "'\\U000e0021'"
      ]
     },
     "execution_count": 59,
     "metadata": {},
     "output_type": "execute_result"
    }
   ],
   "source": [
    "user_small.iloc[89,0]"
   ]
  },
  {
   "cell_type": "code",
   "execution_count": 60,
   "metadata": {
    "hidden": true
   },
   "outputs": [],
   "source": [
    "#they are using unicode signs, that don't render in jupyter"
   ]
  },
  {
   "cell_type": "markdown",
   "metadata": {
    "heading_collapsed": true
   },
   "source": [
    "## Creating reviews files, with choosen set of users"
   ]
  },
  {
   "cell_type": "code",
   "execution_count": 62,
   "metadata": {
    "hidden": true
   },
   "outputs": [
    {
     "data": {
      "text/plain": [
       "1735374"
      ]
     },
     "execution_count": 62,
     "metadata": {},
     "output_type": "execute_result"
    }
   ],
   "source": [
    "user_small[\"reviews\"].sum()"
   ]
  },
  {
   "cell_type": "code",
   "execution_count": 63,
   "metadata": {
    "hidden": true
   },
   "outputs": [],
   "source": [
    "# let's create reviews files, but only with users from `user_small` dataframe"
   ]
  },
  {
   "cell_type": "code",
   "execution_count": 64,
   "metadata": {
    "hidden": true
   },
   "outputs": [],
   "source": [
    "df = pd.merge(reviews, user_small, on=\"username\")"
   ]
  },
  {
   "cell_type": "code",
   "execution_count": 65,
   "metadata": {
    "hidden": true
   },
   "outputs": [
    {
     "data": {
      "text/html": [
       "<div>\n",
       "<style scoped>\n",
       "    .dataframe tbody tr th:only-of-type {\n",
       "        vertical-align: middle;\n",
       "    }\n",
       "\n",
       "    .dataframe tbody tr th {\n",
       "        vertical-align: top;\n",
       "    }\n",
       "\n",
       "    .dataframe thead th {\n",
       "        text-align: right;\n",
       "    }\n",
       "</style>\n",
       "<table border=\"1\" class=\"dataframe\">\n",
       "  <thead>\n",
       "    <tr style=\"text-align: right;\">\n",
       "      <th></th>\n",
       "      <th>product_id</th>\n",
       "      <th>recommended</th>\n",
       "      <th>date</th>\n",
       "      <th>user_id</th>\n",
       "      <th>username</th>\n",
       "      <th>reviews</th>\n",
       "    </tr>\n",
       "  </thead>\n",
       "  <tbody>\n",
       "    <tr>\n",
       "      <th>0</th>\n",
       "      <td>646380.0</td>\n",
       "      <td>1.0</td>\n",
       "      <td>7 December, 2017</td>\n",
       "      <td>7.656120e+16</td>\n",
       "      <td>S0_GosU</td>\n",
       "      <td>21</td>\n",
       "    </tr>\n",
       "    <tr>\n",
       "      <th>1</th>\n",
       "      <td>570.0</td>\n",
       "      <td>1.0</td>\n",
       "      <td>2018-07-09</td>\n",
       "      <td>7.656120e+16</td>\n",
       "      <td>S0_GosU</td>\n",
       "      <td>21</td>\n",
       "    </tr>\n",
       "    <tr>\n",
       "      <th>2</th>\n",
       "      <td>450390.0</td>\n",
       "      <td>1.0</td>\n",
       "      <td>2018-07-09</td>\n",
       "      <td>7.656120e+16</td>\n",
       "      <td>S0_GosU</td>\n",
       "      <td>21</td>\n",
       "    </tr>\n",
       "    <tr>\n",
       "      <th>3</th>\n",
       "      <td>368730.0</td>\n",
       "      <td>0.0</td>\n",
       "      <td>2017-03-25</td>\n",
       "      <td>7.656120e+16</td>\n",
       "      <td>S0_GosU</td>\n",
       "      <td>21</td>\n",
       "    </tr>\n",
       "    <tr>\n",
       "      <th>4</th>\n",
       "      <td>26800.0</td>\n",
       "      <td>1.0</td>\n",
       "      <td>2018-07-09</td>\n",
       "      <td>7.656120e+16</td>\n",
       "      <td>S0_GosU</td>\n",
       "      <td>21</td>\n",
       "    </tr>\n",
       "  </tbody>\n",
       "</table>\n",
       "</div>"
      ],
      "text/plain": [
       "   product_id  recommended              date       user_id username  reviews\n",
       "0    646380.0          1.0  7 December, 2017  7.656120e+16  S0_GosU       21\n",
       "1       570.0          1.0        2018-07-09  7.656120e+16  S0_GosU       21\n",
       "2    450390.0          1.0        2018-07-09  7.656120e+16  S0_GosU       21\n",
       "3    368730.0          0.0        2017-03-25  7.656120e+16  S0_GosU       21\n",
       "4     26800.0          1.0        2018-07-09  7.656120e+16  S0_GosU       21"
      ]
     },
     "execution_count": 65,
     "metadata": {},
     "output_type": "execute_result"
    }
   ],
   "source": [
    "df.head()"
   ]
  },
  {
   "cell_type": "code",
   "execution_count": 67,
   "metadata": {
    "hidden": true
   },
   "outputs": [
    {
     "data": {
      "text/plain": [
       "True"
      ]
     },
     "execution_count": 67,
     "metadata": {},
     "output_type": "execute_result"
    }
   ],
   "source": [
    "user_small[\"reviews\"].sum() == df.shape[0]"
   ]
  },
  {
   "cell_type": "code",
   "execution_count": 69,
   "metadata": {
    "hidden": true
   },
   "outputs": [],
   "source": [
    "df = df.drop([\"user_id\",  \"reviews\"], axis=1)"
   ]
  },
  {
   "cell_type": "code",
   "execution_count": 70,
   "metadata": {
    "hidden": true
   },
   "outputs": [
    {
     "data": {
      "text/plain": [
       "1735374"
      ]
     },
     "execution_count": 70,
     "metadata": {},
     "output_type": "execute_result"
    }
   ],
   "source": [
    "df.shape[0]"
   ]
  },
  {
   "cell_type": "code",
   "execution_count": 71,
   "metadata": {
    "hidden": true
   },
   "outputs": [],
   "source": [
    "# let's remove NaN rows from our dataframe\n",
    "df = df.dropna()"
   ]
  },
  {
   "cell_type": "code",
   "execution_count": 72,
   "metadata": {
    "hidden": true
   },
   "outputs": [
    {
     "data": {
      "text/plain": [
       "1735173"
      ]
     },
     "execution_count": 72,
     "metadata": {},
     "output_type": "execute_result"
    }
   ],
   "source": [
    "df.shape[0]"
   ]
  },
  {
   "cell_type": "code",
   "execution_count": 73,
   "metadata": {
    "hidden": true
   },
   "outputs": [],
   "source": [
    "df.to_hdf(\"reviews_small.h5\", key=\"df\", mode=\"w\")"
   ]
  },
  {
   "cell_type": "code",
   "execution_count": null,
   "metadata": {
    "hidden": true
   },
   "outputs": [],
   "source": []
  }
 ],
 "metadata": {
  "kernelspec": {
   "display_name": "Python 3",
   "language": "python",
   "name": "python3"
  },
  "language_info": {
   "codemirror_mode": {
    "name": "ipython",
    "version": 3
   },
   "file_extension": ".py",
   "mimetype": "text/x-python",
   "name": "python",
   "nbconvert_exporter": "python",
   "pygments_lexer": "ipython3",
   "version": "3.7.3"
  },
  "varInspector": {
   "cols": {
    "lenName": 16,
    "lenType": 16,
    "lenVar": 40
   },
   "kernels_config": {
    "python": {
     "delete_cmd_postfix": "",
     "delete_cmd_prefix": "del ",
     "library": "var_list.py",
     "varRefreshCmd": "print(var_dic_list())"
    },
    "r": {
     "delete_cmd_postfix": ") ",
     "delete_cmd_prefix": "rm(",
     "library": "var_list.r",
     "varRefreshCmd": "cat(var_dic_list()) "
    }
   },
   "types_to_exclude": [
    "module",
    "function",
    "builtin_function_or_method",
    "instance",
    "_Feature"
   ],
   "window_display": false
  }
 },
 "nbformat": 4,
 "nbformat_minor": 2
}
