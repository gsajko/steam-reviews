{
 "cells": [
  {
   "cell_type": "code",
   "execution_count": 20,
   "metadata": {},
   "outputs": [],
   "source": [
    "import pandas as pd"
   ]
  },
  {
   "cell_type": "code",
   "execution_count": 21,
   "metadata": {},
   "outputs": [],
   "source": [
    "# https://www.kaggle.com/nikdavis/datasets"
   ]
  },
  {
   "cell_type": "markdown",
   "metadata": {},
   "source": [
    "## interpretation"
   ]
  },
  {
   "cell_type": "markdown",
   "metadata": {},
   "source": [
    "### setup"
   ]
  },
  {
   "cell_type": "code",
   "execution_count": 22,
   "metadata": {},
   "outputs": [],
   "source": [
    "from fastai.collab import *"
   ]
  },
  {
   "cell_type": "code",
   "execution_count": 23,
   "metadata": {},
   "outputs": [],
   "source": [
    "df_shuffle = pd.read_hdf(\"df_shuffle.h5\", \"df_shuffle\")"
   ]
  },
  {
   "cell_type": "code",
   "execution_count": 24,
   "metadata": {},
   "outputs": [],
   "source": [
    "data = CollabDataBunch.from_df(\n",
    "    df_shuffle,\n",
    "    user_name=\"username\",\n",
    "    item_name=\"name\",\n",
    "    rating_name=\"recommended\",\n",
    "    seed=36,\n",
    ")"
   ]
  },
  {
   "cell_type": "code",
   "execution_count": 25,
   "metadata": {},
   "outputs": [],
   "source": [
    "train_dataset = data.train_ds.inner_df"
   ]
  },
  {
   "cell_type": "code",
   "execution_count": 26,
   "metadata": {
    "scrolled": true
   },
   "outputs": [
    {
     "data": {
      "text/html": [
       "<div>\n",
       "<style scoped>\n",
       "    .dataframe tbody tr th:only-of-type {\n",
       "        vertical-align: middle;\n",
       "    }\n",
       "\n",
       "    .dataframe tbody tr th {\n",
       "        vertical-align: top;\n",
       "    }\n",
       "\n",
       "    .dataframe thead th {\n",
       "        text-align: right;\n",
       "    }\n",
       "</style>\n",
       "<table border=\"1\" class=\"dataframe\">\n",
       "  <thead>\n",
       "    <tr style=\"text-align: right;\">\n",
       "      <th></th>\n",
       "      <th>product_id</th>\n",
       "      <th>recommended</th>\n",
       "      <th>username</th>\n",
       "      <th>name</th>\n",
       "    </tr>\n",
       "  </thead>\n",
       "  <tbody>\n",
       "    <tr>\n",
       "      <td>0</td>\n",
       "      <td>611790</td>\n",
       "      <td>1.0</td>\n",
       "      <td>Grunt95</td>\n",
       "      <td>House Party</td>\n",
       "    </tr>\n",
       "    <tr>\n",
       "      <td>1</td>\n",
       "      <td>233470</td>\n",
       "      <td>0.0</td>\n",
       "      <td>「Ｂｏｋｕ♥」</td>\n",
       "      <td>Evoland</td>\n",
       "    </tr>\n",
       "    <tr>\n",
       "      <td>2</td>\n",
       "      <td>821610</td>\n",
       "      <td>0.0</td>\n",
       "      <td>Beans</td>\n",
       "      <td>My Sunny Resort</td>\n",
       "    </tr>\n",
       "    <tr>\n",
       "      <td>3</td>\n",
       "      <td>302710</td>\n",
       "      <td>0.0</td>\n",
       "      <td>Styxplorer</td>\n",
       "      <td>BlazeRush</td>\n",
       "    </tr>\n",
       "    <tr>\n",
       "      <td>4</td>\n",
       "      <td>346920</td>\n",
       "      <td>0.0</td>\n",
       "      <td>(YouTube)Dragnix</td>\n",
       "      <td>Undead Shadows</td>\n",
       "    </tr>\n",
       "  </tbody>\n",
       "</table>\n",
       "</div>"
      ],
      "text/plain": [
       "   product_id  recommended          username             name\n",
       "0      611790          1.0           Grunt95      House Party\n",
       "1      233470          0.0           「Ｂｏｋｕ♥」          Evoland\n",
       "2      821610          0.0             Beans  My Sunny Resort\n",
       "3      302710          0.0        Styxplorer        BlazeRush\n",
       "4      346920          0.0  (YouTube)Dragnix   Undead Shadows"
      ]
     },
     "execution_count": 26,
     "metadata": {},
     "output_type": "execute_result"
    }
   ],
   "source": [
    "train_dataset.head()"
   ]
  },
  {
   "cell_type": "code",
   "execution_count": 27,
   "metadata": {},
   "outputs": [
    {
     "data": {
      "text/html": [
       "<table border=\"1\" class=\"dataframe\">\n",
       "  <thead>\n",
       "    <tr style=\"text-align: right;\">\n",
       "      <th>username</th>\n",
       "      <th>name</th>\n",
       "      <th>target</th>\n",
       "    </tr>\n",
       "  </thead>\n",
       "  <tbody>\n",
       "    <tr>\n",
       "      <td>Mister B</td>\n",
       "      <td>Titan Souls</td>\n",
       "      <td>1.0</td>\n",
       "    </tr>\n",
       "    <tr>\n",
       "      <td>Adler</td>\n",
       "      <td>Tom Clancy's Ghost Recon® Wildlands</td>\n",
       "      <td>0.0</td>\n",
       "    </tr>\n",
       "    <tr>\n",
       "      <td>Moon</td>\n",
       "      <td>Magicka</td>\n",
       "      <td>1.0</td>\n",
       "    </tr>\n",
       "    <tr>\n",
       "      <td>Aluminum Elite Master</td>\n",
       "      <td>Total War: MEDIEVAL II – Definitive Edition</td>\n",
       "      <td>1.0</td>\n",
       "    </tr>\n",
       "    <tr>\n",
       "      <td>MegaGame</td>\n",
       "      <td>Defiance 2050</td>\n",
       "      <td>0.0</td>\n",
       "    </tr>\n",
       "  </tbody>\n",
       "</table>"
      ],
      "text/plain": [
       "<IPython.core.display.HTML object>"
      ]
     },
     "metadata": {},
     "output_type": "display_data"
    }
   ],
   "source": [
    "data.show_batch()"
   ]
  },
  {
   "cell_type": "code",
   "execution_count": 28,
   "metadata": {},
   "outputs": [],
   "source": [
    "learn = collab_learner(data, n_factors=50)"
   ]
  },
  {
   "cell_type": "code",
   "execution_count": 29,
   "metadata": {},
   "outputs": [
    {
     "data": {
      "text/plain": [
       "CollabLearner(data=TabularDataBunch;\n",
       "\n",
       "Train: LabelList (1388139 items)\n",
       "x: CollabList\n",
       "username Grunt95; name House Party; ,username 「Ｂｏｋｕ♥」; name Evoland; ,username Beans; name My Sunny Resort; ,username Styxplorer; name BlazeRush; ,username (YouTube)Dragnix; name Undead Shadows; \n",
       "y: FloatList\n",
       "1.0,0.0,0.0,0.0,0.0\n",
       "Path: .;\n",
       "\n",
       "Valid: LabelList (347034 items)\n",
       "x: CollabList\n",
       "username Dwigt; name Rivals of Aether; ,username lmao; name The Witcher® 3: Wild Hunt; ,username o}}{{![)3; name GRID 2; ,username unknowncity; name ETHER VAPOR Remaster; ,username BIRDMAN ~ VEGAN FUTURE; name Supraland; \n",
       "y: FloatList\n",
       "1.0,1.0,1.0,0.0,1.0\n",
       "Path: .;\n",
       "\n",
       "Test: None, model=EmbeddingDotBias(\n",
       "  (u_weight): Embedding(36539, 50)\n",
       "  (i_weight): Embedding(21255, 50)\n",
       "  (u_bias): Embedding(36539, 1)\n",
       "  (i_bias): Embedding(21255, 1)\n",
       "), opt_func=functools.partial(<class 'torch.optim.adam.Adam'>, betas=(0.9, 0.99)), loss_func=FlattenedLoss of MSELoss(), metrics=[], true_wd=True, bn_wd=True, wd=0.01, train_bn=True, path=PosixPath('.'), model_dir='models', callback_fns=[functools.partial(<class 'fastai.basic_train.Recorder'>, add_time=True, silent=False)], callbacks=[], layer_groups=[Sequential(\n",
       "  (0): Embedding(36539, 50)\n",
       "  (1): Embedding(21255, 50)\n",
       "  (2): Embedding(36539, 1)\n",
       "  (3): Embedding(21255, 1)\n",
       ")], add_time=True, silent=False)"
      ]
     },
     "execution_count": 29,
     "metadata": {},
     "output_type": "execute_result"
    }
   ],
   "source": [
    "learn.load(\"dotprod4\")"
   ]
  },
  {
   "cell_type": "code",
   "execution_count": 30,
   "metadata": {},
   "outputs": [
    {
     "data": {
      "text/plain": [
       "EmbeddingDotBias(\n",
       "  (u_weight): Embedding(36539, 50)\n",
       "  (i_weight): Embedding(21255, 50)\n",
       "  (u_bias): Embedding(36539, 1)\n",
       "  (i_bias): Embedding(21255, 1)\n",
       ")"
      ]
     },
     "execution_count": 30,
     "metadata": {},
     "output_type": "execute_result"
    }
   ],
   "source": [
    "learn.model"
   ]
  },
  {
   "cell_type": "code",
   "execution_count": 31,
   "metadata": {},
   "outputs": [],
   "source": [
    "reviews = pd.read_hdf(\"df_shuffle.h5\", \"df_shuffle\")"
   ]
  },
  {
   "cell_type": "code",
   "execution_count": 161,
   "metadata": {},
   "outputs": [
    {
     "data": {
      "text/html": [
       "<div>\n",
       "<style scoped>\n",
       "    .dataframe tbody tr th:only-of-type {\n",
       "        vertical-align: middle;\n",
       "    }\n",
       "\n",
       "    .dataframe tbody tr th {\n",
       "        vertical-align: top;\n",
       "    }\n",
       "\n",
       "    .dataframe thead th {\n",
       "        text-align: right;\n",
       "    }\n",
       "</style>\n",
       "<table border=\"1\" class=\"dataframe\">\n",
       "  <thead>\n",
       "    <tr style=\"text-align: right;\">\n",
       "      <th></th>\n",
       "      <th>product_id</th>\n",
       "      <th>recommended</th>\n",
       "      <th>username</th>\n",
       "      <th>name</th>\n",
       "    </tr>\n",
       "  </thead>\n",
       "  <tbody>\n",
       "    <tr>\n",
       "      <td>0</td>\n",
       "      <td>611790</td>\n",
       "      <td>1.0</td>\n",
       "      <td>Grunt95</td>\n",
       "      <td>House Party</td>\n",
       "    </tr>\n",
       "    <tr>\n",
       "      <td>1</td>\n",
       "      <td>233470</td>\n",
       "      <td>0.0</td>\n",
       "      <td>「Ｂｏｋｕ♥」</td>\n",
       "      <td>Evoland</td>\n",
       "    </tr>\n",
       "    <tr>\n",
       "      <td>2</td>\n",
       "      <td>821610</td>\n",
       "      <td>0.0</td>\n",
       "      <td>Beans</td>\n",
       "      <td>My Sunny Resort</td>\n",
       "    </tr>\n",
       "    <tr>\n",
       "      <td>3</td>\n",
       "      <td>302710</td>\n",
       "      <td>0.0</td>\n",
       "      <td>Styxplorer</td>\n",
       "      <td>BlazeRush</td>\n",
       "    </tr>\n",
       "    <tr>\n",
       "      <td>4</td>\n",
       "      <td>346920</td>\n",
       "      <td>0.0</td>\n",
       "      <td>(YouTube)Dragnix</td>\n",
       "      <td>Undead Shadows</td>\n",
       "    </tr>\n",
       "    <tr>\n",
       "      <td>...</td>\n",
       "      <td>...</td>\n",
       "      <td>...</td>\n",
       "      <td>...</td>\n",
       "      <td>...</td>\n",
       "    </tr>\n",
       "    <tr>\n",
       "      <td>1735168</td>\n",
       "      <td>57300</td>\n",
       "      <td>1.0</td>\n",
       "      <td>Juniper</td>\n",
       "      <td>Amnesia: The Dark Descent</td>\n",
       "    </tr>\n",
       "    <tr>\n",
       "      <td>1735169</td>\n",
       "      <td>26000</td>\n",
       "      <td>1.0</td>\n",
       "      <td>ACWraith</td>\n",
       "      <td>The Maw</td>\n",
       "    </tr>\n",
       "    <tr>\n",
       "      <td>1735170</td>\n",
       "      <td>44350</td>\n",
       "      <td>1.0</td>\n",
       "      <td>An</td>\n",
       "      <td>GRID 2</td>\n",
       "    </tr>\n",
       "    <tr>\n",
       "      <td>1735171</td>\n",
       "      <td>24960</td>\n",
       "      <td>1.0</td>\n",
       "      <td>Ravioli</td>\n",
       "      <td>Battlefield: Bad Company™ 2</td>\n",
       "    </tr>\n",
       "    <tr>\n",
       "      <td>1735172</td>\n",
       "      <td>98800</td>\n",
       "      <td>1.0</td>\n",
       "      <td>Groucho Marx</td>\n",
       "      <td>Dungeons of Dredmor</td>\n",
       "    </tr>\n",
       "  </tbody>\n",
       "</table>\n",
       "<p>1735173 rows × 4 columns</p>\n",
       "</div>"
      ],
      "text/plain": [
       "         product_id  recommended          username  \\\n",
       "0            611790          1.0           Grunt95   \n",
       "1            233470          0.0           「Ｂｏｋｕ♥」   \n",
       "2            821610          0.0             Beans   \n",
       "3            302710          0.0        Styxplorer   \n",
       "4            346920          0.0  (YouTube)Dragnix   \n",
       "...             ...          ...               ...   \n",
       "1735168       57300          1.0           Juniper   \n",
       "1735169       26000          1.0          ACWraith   \n",
       "1735170       44350          1.0                An   \n",
       "1735171       24960          1.0           Ravioli   \n",
       "1735172       98800          1.0      Groucho Marx   \n",
       "\n",
       "                                name  \n",
       "0                        House Party  \n",
       "1                            Evoland  \n",
       "2                    My Sunny Resort  \n",
       "3                          BlazeRush  \n",
       "4                     Undead Shadows  \n",
       "...                              ...  \n",
       "1735168    Amnesia: The Dark Descent  \n",
       "1735169                      The Maw  \n",
       "1735170                       GRID 2  \n",
       "1735171  Battlefield: Bad Company™ 2  \n",
       "1735172          Dungeons of Dredmor  \n",
       "\n",
       "[1735173 rows x 4 columns]"
      ]
     },
     "execution_count": 161,
     "metadata": {},
     "output_type": "execute_result"
    }
   ],
   "source": [
    "reviews"
   ]
  },
  {
   "cell_type": "code",
   "execution_count": 33,
   "metadata": {},
   "outputs": [],
   "source": [
    "games_most_reviews_df = (\n",
    "    reviews.groupby(\"name\")[\"recommended\"]\n",
    "    .sum()\n",
    "    .sort_values(ascending=False)\n",
    "    .reset_index()[:1000]\n",
    ")"
   ]
  },
  {
   "cell_type": "code",
   "execution_count": 34,
   "metadata": {},
   "outputs": [],
   "source": [
    "g = reviews.groupby(\"name\")[\"recommended\"].count()"
   ]
  },
  {
   "cell_type": "code",
   "execution_count": 35,
   "metadata": {},
   "outputs": [],
   "source": [
    "games_most_reviews = g.sort_values(ascending=False).index.values[:1000] = g.sort_values(\n",
    "    ascending=False\n",
    ").index.values[:1000]"
   ]
  },
  {
   "cell_type": "code",
   "execution_count": 36,
   "metadata": {},
   "outputs": [
    {
     "data": {
      "text/plain": [
       "array(['ARK: Survival Evolved', 'The Witcher® 3: Wild Hunt', 'Dead by Daylight', 'Arma 3', 'Warframe', 'Dota 2',\n",
       "       \"Sid Meier's Civilization® V\", 'The Elder Scrolls V: Skyrim Special Edition', 'Portal', \"Garry's Mod\"],\n",
       "      dtype=object)"
      ]
     },
     "execution_count": 36,
     "metadata": {},
     "output_type": "execute_result"
    }
   ],
   "source": [
    "games_most_reviews[:10]"
   ]
  },
  {
   "cell_type": "code",
   "execution_count": 37,
   "metadata": {},
   "outputs": [
    {
     "data": {
      "text/html": [
       "<div>\n",
       "<style scoped>\n",
       "    .dataframe tbody tr th:only-of-type {\n",
       "        vertical-align: middle;\n",
       "    }\n",
       "\n",
       "    .dataframe tbody tr th {\n",
       "        vertical-align: top;\n",
       "    }\n",
       "\n",
       "    .dataframe thead th {\n",
       "        text-align: right;\n",
       "    }\n",
       "</style>\n",
       "<table border=\"1\" class=\"dataframe\">\n",
       "  <thead>\n",
       "    <tr style=\"text-align: right;\">\n",
       "      <th></th>\n",
       "      <th>name</th>\n",
       "      <th>recommended</th>\n",
       "    </tr>\n",
       "  </thead>\n",
       "  <tbody>\n",
       "    <tr>\n",
       "      <td>0</td>\n",
       "      <td>The Witcher® 3: Wild Hunt</td>\n",
       "      <td>10412.0</td>\n",
       "    </tr>\n",
       "    <tr>\n",
       "      <td>1</td>\n",
       "      <td>ARK: Survival Evolved</td>\n",
       "      <td>9346.0</td>\n",
       "    </tr>\n",
       "    <tr>\n",
       "      <td>2</td>\n",
       "      <td>Arma 3</td>\n",
       "      <td>8663.0</td>\n",
       "    </tr>\n",
       "    <tr>\n",
       "      <td>3</td>\n",
       "      <td>Warframe</td>\n",
       "      <td>7754.0</td>\n",
       "    </tr>\n",
       "    <tr>\n",
       "      <td>4</td>\n",
       "      <td>Sid Meier's Civilization® V</td>\n",
       "      <td>7239.0</td>\n",
       "    </tr>\n",
       "    <tr>\n",
       "      <td>...</td>\n",
       "      <td>...</td>\n",
       "      <td>...</td>\n",
       "    </tr>\n",
       "    <tr>\n",
       "      <td>95</td>\n",
       "      <td>Five Nights at Freddy's</td>\n",
       "      <td>1707.0</td>\n",
       "    </tr>\n",
       "    <tr>\n",
       "      <td>96</td>\n",
       "      <td>Insurgency: Sandstorm</td>\n",
       "      <td>1704.0</td>\n",
       "    </tr>\n",
       "    <tr>\n",
       "      <td>97</td>\n",
       "      <td>Alien Swarm</td>\n",
       "      <td>1702.0</td>\n",
       "    </tr>\n",
       "    <tr>\n",
       "      <td>98</td>\n",
       "      <td>INSIDE</td>\n",
       "      <td>1697.0</td>\n",
       "    </tr>\n",
       "    <tr>\n",
       "      <td>99</td>\n",
       "      <td>Europa Universalis IV</td>\n",
       "      <td>1679.0</td>\n",
       "    </tr>\n",
       "  </tbody>\n",
       "</table>\n",
       "<p>100 rows × 2 columns</p>\n",
       "</div>"
      ],
      "text/plain": [
       "                           name  recommended\n",
       "0     The Witcher® 3: Wild Hunt      10412.0\n",
       "1         ARK: Survival Evolved       9346.0\n",
       "2                        Arma 3       8663.0\n",
       "3                      Warframe       7754.0\n",
       "4   Sid Meier's Civilization® V       7239.0\n",
       "..                          ...          ...\n",
       "95      Five Nights at Freddy's       1707.0\n",
       "96        Insurgency: Sandstorm       1704.0\n",
       "97                  Alien Swarm       1702.0\n",
       "98                       INSIDE       1697.0\n",
       "99        Europa Universalis IV       1679.0\n",
       "\n",
       "[100 rows x 2 columns]"
      ]
     },
     "execution_count": 37,
     "metadata": {},
     "output_type": "execute_result"
    }
   ],
   "source": [
    "games_most_reviews_df.head(100)"
   ]
  },
  {
   "cell_type": "code",
   "execution_count": 157,
   "metadata": {},
   "outputs": [],
   "source": [
    "# games_most_reviews_df.columns = [\"name\", \"nr_review\"]"
   ]
  },
  {
   "cell_type": "code",
   "execution_count": 158,
   "metadata": {
    "scrolled": true
   },
   "outputs": [
    {
     "data": {
      "text/html": [
       "<div>\n",
       "<style scoped>\n",
       "    .dataframe tbody tr th:only-of-type {\n",
       "        vertical-align: middle;\n",
       "    }\n",
       "\n",
       "    .dataframe tbody tr th {\n",
       "        vertical-align: top;\n",
       "    }\n",
       "\n",
       "    .dataframe thead th {\n",
       "        text-align: right;\n",
       "    }\n",
       "</style>\n",
       "<table border=\"1\" class=\"dataframe\">\n",
       "  <thead>\n",
       "    <tr style=\"text-align: right;\">\n",
       "      <th></th>\n",
       "      <th>name</th>\n",
       "      <th>nr_review</th>\n",
       "    </tr>\n",
       "  </thead>\n",
       "  <tbody>\n",
       "    <tr>\n",
       "      <td>79</td>\n",
       "      <td>Counter-Strike: Global Offensive</td>\n",
       "      <td>1946.0</td>\n",
       "    </tr>\n",
       "    <tr>\n",
       "      <td>115</td>\n",
       "      <td>Counter-Strike</td>\n",
       "      <td>1536.0</td>\n",
       "    </tr>\n",
       "    <tr>\n",
       "      <td>256</td>\n",
       "      <td>Counter-Strike Nexon: Zombies</td>\n",
       "      <td>947.0</td>\n",
       "    </tr>\n",
       "  </tbody>\n",
       "</table>\n",
       "</div>"
      ],
      "text/plain": [
       "                                 name  nr_review\n",
       "79   Counter-Strike: Global Offensive     1946.0\n",
       "115                    Counter-Strike     1536.0\n",
       "256     Counter-Strike Nexon: Zombies      947.0"
      ]
     },
     "execution_count": 158,
     "metadata": {},
     "output_type": "execute_result"
    }
   ],
   "source": [
    "# games_most_reviews_df[games_most_reviews[\"name\"].str.contains(\"Counter\")]"
   ]
  },
  {
   "cell_type": "markdown",
   "metadata": {},
   "source": [
    "this shows, how unreliable (in terms of review numbers) was my scraper, because [Counter-Strike: Global Offensive](https://store.steampowered.com/app/730/CounterStrike_Global_Offensive/) has more then 3 000 000  reviews on website."
   ]
  },
  {
   "cell_type": "markdown",
   "metadata": {
    "heading_collapsed": true
   },
   "source": [
    "### compering train_dataset with games_most_reviews"
   ]
  },
  {
   "cell_type": "code",
   "execution_count": 95,
   "metadata": {
    "hidden": true
   },
   "outputs": [
    {
     "data": {
      "text/html": [
       "<div>\n",
       "<style scoped>\n",
       "    .dataframe tbody tr th:only-of-type {\n",
       "        vertical-align: middle;\n",
       "    }\n",
       "\n",
       "    .dataframe tbody tr th {\n",
       "        vertical-align: top;\n",
       "    }\n",
       "\n",
       "    .dataframe thead th {\n",
       "        text-align: right;\n",
       "    }\n",
       "</style>\n",
       "<table border=\"1\" class=\"dataframe\">\n",
       "  <thead>\n",
       "    <tr style=\"text-align: right;\">\n",
       "      <th></th>\n",
       "      <th>name</th>\n",
       "      <th>nr_review</th>\n",
       "    </tr>\n",
       "  </thead>\n",
       "  <tbody>\n",
       "    <tr>\n",
       "      <td>0</td>\n",
       "      <td>The Witcher® 3: Wild Hunt</td>\n",
       "      <td>10412.0</td>\n",
       "    </tr>\n",
       "    <tr>\n",
       "      <td>1</td>\n",
       "      <td>ARK: Survival Evolved</td>\n",
       "      <td>9346.0</td>\n",
       "    </tr>\n",
       "    <tr>\n",
       "      <td>2</td>\n",
       "      <td>Arma 3</td>\n",
       "      <td>8663.0</td>\n",
       "    </tr>\n",
       "    <tr>\n",
       "      <td>3</td>\n",
       "      <td>Warframe</td>\n",
       "      <td>7754.0</td>\n",
       "    </tr>\n",
       "    <tr>\n",
       "      <td>4</td>\n",
       "      <td>Sid Meier's Civilization® V</td>\n",
       "      <td>7239.0</td>\n",
       "    </tr>\n",
       "  </tbody>\n",
       "</table>\n",
       "</div>"
      ],
      "text/plain": [
       "                          name  nr_review\n",
       "0    The Witcher® 3: Wild Hunt    10412.0\n",
       "1        ARK: Survival Evolved     9346.0\n",
       "2                       Arma 3     8663.0\n",
       "3                     Warframe     7754.0\n",
       "4  Sid Meier's Civilization® V     7239.0"
      ]
     },
     "execution_count": 95,
     "metadata": {},
     "output_type": "execute_result"
    }
   ],
   "source": [
    "games_most_reviews_df.head()"
   ]
  },
  {
   "cell_type": "code",
   "execution_count": 96,
   "metadata": {
    "hidden": true
   },
   "outputs": [
    {
     "data": {
      "text/html": [
       "<div>\n",
       "<style scoped>\n",
       "    .dataframe tbody tr th:only-of-type {\n",
       "        vertical-align: middle;\n",
       "    }\n",
       "\n",
       "    .dataframe tbody tr th {\n",
       "        vertical-align: top;\n",
       "    }\n",
       "\n",
       "    .dataframe thead th {\n",
       "        text-align: right;\n",
       "    }\n",
       "</style>\n",
       "<table border=\"1\" class=\"dataframe\">\n",
       "  <thead>\n",
       "    <tr style=\"text-align: right;\">\n",
       "      <th></th>\n",
       "      <th>product_id</th>\n",
       "      <th>recommended</th>\n",
       "      <th>username</th>\n",
       "      <th>name</th>\n",
       "    </tr>\n",
       "  </thead>\n",
       "  <tbody>\n",
       "    <tr>\n",
       "      <td>0</td>\n",
       "      <td>611790</td>\n",
       "      <td>1.0</td>\n",
       "      <td>Grunt95</td>\n",
       "      <td>House Party</td>\n",
       "    </tr>\n",
       "    <tr>\n",
       "      <td>1</td>\n",
       "      <td>233470</td>\n",
       "      <td>0.0</td>\n",
       "      <td>「Ｂｏｋｕ♥」</td>\n",
       "      <td>Evoland</td>\n",
       "    </tr>\n",
       "    <tr>\n",
       "      <td>2</td>\n",
       "      <td>821610</td>\n",
       "      <td>0.0</td>\n",
       "      <td>Beans</td>\n",
       "      <td>My Sunny Resort</td>\n",
       "    </tr>\n",
       "    <tr>\n",
       "      <td>3</td>\n",
       "      <td>302710</td>\n",
       "      <td>0.0</td>\n",
       "      <td>Styxplorer</td>\n",
       "      <td>BlazeRush</td>\n",
       "    </tr>\n",
       "    <tr>\n",
       "      <td>4</td>\n",
       "      <td>346920</td>\n",
       "      <td>0.0</td>\n",
       "      <td>(YouTube)Dragnix</td>\n",
       "      <td>Undead Shadows</td>\n",
       "    </tr>\n",
       "  </tbody>\n",
       "</table>\n",
       "</div>"
      ],
      "text/plain": [
       "   product_id  recommended          username             name\n",
       "0      611790          1.0           Grunt95      House Party\n",
       "1      233470          0.0           「Ｂｏｋｕ♥」          Evoland\n",
       "2      821610          0.0             Beans  My Sunny Resort\n",
       "3      302710          0.0        Styxplorer        BlazeRush\n",
       "4      346920          0.0  (YouTube)Dragnix   Undead Shadows"
      ]
     },
     "execution_count": 96,
     "metadata": {},
     "output_type": "execute_result"
    }
   ],
   "source": [
    "train_dataset.head()"
   ]
  },
  {
   "cell_type": "code",
   "execution_count": 110,
   "metadata": {
    "hidden": true
   },
   "outputs": [],
   "source": [
    "games_in_train = (\n",
    "    train_dataset.groupby(\"name\")[\"recommended\"]\n",
    "    .sum()\n",
    "    .sort_values(ascending=False)\n",
    "    .reset_index()\n",
    ")"
   ]
  },
  {
   "cell_type": "code",
   "execution_count": 119,
   "metadata": {
    "hidden": true
   },
   "outputs": [
    {
     "data": {
      "text/html": [
       "<div>\n",
       "<style scoped>\n",
       "    .dataframe tbody tr th:only-of-type {\n",
       "        vertical-align: middle;\n",
       "    }\n",
       "\n",
       "    .dataframe tbody tr th {\n",
       "        vertical-align: top;\n",
       "    }\n",
       "\n",
       "    .dataframe thead th {\n",
       "        text-align: right;\n",
       "    }\n",
       "</style>\n",
       "<table border=\"1\" class=\"dataframe\">\n",
       "  <thead>\n",
       "    <tr style=\"text-align: right;\">\n",
       "      <th></th>\n",
       "      <th>name</th>\n",
       "      <th>recommended</th>\n",
       "    </tr>\n",
       "  </thead>\n",
       "  <tbody>\n",
       "    <tr>\n",
       "      <td>0</td>\n",
       "      <td>The Witcher® 3: Wild Hunt</td>\n",
       "      <td>8314.0</td>\n",
       "    </tr>\n",
       "    <tr>\n",
       "      <td>1</td>\n",
       "      <td>ARK: Survival Evolved</td>\n",
       "      <td>7447.0</td>\n",
       "    </tr>\n",
       "    <tr>\n",
       "      <td>2</td>\n",
       "      <td>Arma 3</td>\n",
       "      <td>6952.0</td>\n",
       "    </tr>\n",
       "    <tr>\n",
       "      <td>3</td>\n",
       "      <td>Warframe</td>\n",
       "      <td>6203.0</td>\n",
       "    </tr>\n",
       "    <tr>\n",
       "      <td>4</td>\n",
       "      <td>Sid Meier's Civilization® V</td>\n",
       "      <td>5824.0</td>\n",
       "    </tr>\n",
       "  </tbody>\n",
       "</table>\n",
       "</div>"
      ],
      "text/plain": [
       "                          name  recommended\n",
       "0    The Witcher® 3: Wild Hunt       8314.0\n",
       "1        ARK: Survival Evolved       7447.0\n",
       "2                       Arma 3       6952.0\n",
       "3                     Warframe       6203.0\n",
       "4  Sid Meier's Civilization® V       5824.0"
      ]
     },
     "execution_count": 119,
     "metadata": {},
     "output_type": "execute_result"
    }
   ],
   "source": [
    "games_in_train.head()"
   ]
  },
  {
   "cell_type": "code",
   "execution_count": 112,
   "metadata": {
    "hidden": true
   },
   "outputs": [
    {
     "data": {
      "text/plain": [
       "(21254, 2)"
      ]
     },
     "execution_count": 112,
     "metadata": {},
     "output_type": "execute_result"
    }
   ],
   "source": [
    "games_in_train.shape"
   ]
  },
  {
   "cell_type": "code",
   "execution_count": 123,
   "metadata": {
    "hidden": true
   },
   "outputs": [],
   "source": [
    "df = pd.merge(games_most_reviews, games_in_train, how=\"left\", on=\"name\").sort_values(\n",
    "    by=\"recommended\", ascending=False\n",
    ")"
   ]
  },
  {
   "cell_type": "code",
   "execution_count": 124,
   "metadata": {
    "hidden": true,
    "scrolled": true
   },
   "outputs": [
    {
     "data": {
      "text/html": [
       "<div>\n",
       "<style scoped>\n",
       "    .dataframe tbody tr th:only-of-type {\n",
       "        vertical-align: middle;\n",
       "    }\n",
       "\n",
       "    .dataframe tbody tr th {\n",
       "        vertical-align: top;\n",
       "    }\n",
       "\n",
       "    .dataframe thead th {\n",
       "        text-align: right;\n",
       "    }\n",
       "</style>\n",
       "<table border=\"1\" class=\"dataframe\">\n",
       "  <thead>\n",
       "    <tr style=\"text-align: right;\">\n",
       "      <th></th>\n",
       "      <th>name</th>\n",
       "      <th>nr_review</th>\n",
       "      <th>recommended</th>\n",
       "    </tr>\n",
       "  </thead>\n",
       "  <tbody>\n",
       "    <tr>\n",
       "      <td>963</td>\n",
       "      <td>Car Mechanic Simulator 2014</td>\n",
       "      <td>292.0</td>\n",
       "      <td>219.0</td>\n",
       "    </tr>\n",
       "    <tr>\n",
       "      <td>992</td>\n",
       "      <td>Fahrenheit: Indigo Prophecy Remastered</td>\n",
       "      <td>282.0</td>\n",
       "      <td>218.0</td>\n",
       "    </tr>\n",
       "    <tr>\n",
       "      <td>997</td>\n",
       "      <td>Zenge</td>\n",
       "      <td>281.0</td>\n",
       "      <td>217.0</td>\n",
       "    </tr>\n",
       "    <tr>\n",
       "      <td>958</td>\n",
       "      <td>The Red Strings Club</td>\n",
       "      <td>294.0</td>\n",
       "      <td>217.0</td>\n",
       "    </tr>\n",
       "    <tr>\n",
       "      <td>999</td>\n",
       "      <td>Shatter</td>\n",
       "      <td>280.0</td>\n",
       "      <td>215.0</td>\n",
       "    </tr>\n",
       "  </tbody>\n",
       "</table>\n",
       "</div>"
      ],
      "text/plain": [
       "                                       name  nr_review  recommended\n",
       "963             Car Mechanic Simulator 2014      292.0        219.0\n",
       "992  Fahrenheit: Indigo Prophecy Remastered      282.0        218.0\n",
       "997                                   Zenge      281.0        217.0\n",
       "958                    The Red Strings Club      294.0        217.0\n",
       "999                                 Shatter      280.0        215.0"
      ]
     },
     "execution_count": 124,
     "metadata": {},
     "output_type": "execute_result"
    }
   ],
   "source": [
    "df.tail()"
   ]
  },
  {
   "cell_type": "code",
   "execution_count": 117,
   "metadata": {
    "hidden": true
   },
   "outputs": [
    {
     "data": {
      "text/plain": [
       "(1000, 3)"
      ]
     },
     "execution_count": 117,
     "metadata": {},
     "output_type": "execute_result"
    }
   ],
   "source": [
    "df.shape"
   ]
  },
  {
   "cell_type": "code",
   "execution_count": 118,
   "metadata": {
    "hidden": true
   },
   "outputs": [
    {
     "data": {
      "text/html": [
       "<div>\n",
       "<style scoped>\n",
       "    .dataframe tbody tr th:only-of-type {\n",
       "        vertical-align: middle;\n",
       "    }\n",
       "\n",
       "    .dataframe tbody tr th {\n",
       "        vertical-align: top;\n",
       "    }\n",
       "\n",
       "    .dataframe thead th {\n",
       "        text-align: right;\n",
       "    }\n",
       "</style>\n",
       "<table border=\"1\" class=\"dataframe\">\n",
       "  <thead>\n",
       "    <tr style=\"text-align: right;\">\n",
       "      <th></th>\n",
       "      <th>name</th>\n",
       "      <th>nr_review</th>\n",
       "      <th>recommended</th>\n",
       "    </tr>\n",
       "  </thead>\n",
       "  <tbody>\n",
       "  </tbody>\n",
       "</table>\n",
       "</div>"
      ],
      "text/plain": [
       "Empty DataFrame\n",
       "Columns: [name, nr_review, recommended]\n",
       "Index: []"
      ]
     },
     "execution_count": 118,
     "metadata": {},
     "output_type": "execute_result"
    }
   ],
   "source": [
    "df[df.isna().any(axis=1)]"
   ]
  },
  {
   "cell_type": "markdown",
   "metadata": {},
   "source": [
    "### games bias"
   ]
  },
  {
   "cell_type": "code",
   "execution_count": 38,
   "metadata": {},
   "outputs": [],
   "source": [
    "games_bias = learn.bias(games_most_reviews, is_item=True)"
   ]
  },
  {
   "cell_type": "code",
   "execution_count": 39,
   "metadata": {},
   "outputs": [
    {
     "data": {
      "text/plain": [
       "torch.Size([1000])"
      ]
     },
     "execution_count": 39,
     "metadata": {},
     "output_type": "execute_result"
    }
   ],
   "source": [
    "games_bias.shape"
   ]
  },
  {
   "cell_type": "code",
   "execution_count": 41,
   "metadata": {},
   "outputs": [
    {
     "data": {
      "text/plain": [
       "name\n",
       "The Puppet of Tersa: Episode One    1.0\n",
       "The Chronicles of Nyanya            1.0\n",
       "Keyboard Killers                    1.0\n",
       "Keeplanet                           1.0\n",
       "Kautic - The Bald Wizard            1.0\n",
       "                                   ... \n",
       "PRO DRIFT RELOADED                  0.0\n",
       "Escape Station                      0.0\n",
       "Splotches                           0.0\n",
       "Beginner'sGame                      0.0\n",
       "Breath of Warfare                   0.0\n",
       "Name: recommended, Length: 21831, dtype: float64"
      ]
     },
     "execution_count": 41,
     "metadata": {},
     "output_type": "execute_result"
    }
   ],
   "source": [
    "reviews.groupby(\"name\")[\"recommended\"].mean().sort_values(ascending=False)"
   ]
  },
  {
   "cell_type": "code",
   "execution_count": 42,
   "metadata": {},
   "outputs": [],
   "source": [
    "mean_recommended = reviews.groupby(\"name\")[\"recommended\"].mean()"
   ]
  },
  {
   "cell_type": "markdown",
   "metadata": {},
   "source": [
    " we can zip through (i.e. going through together) each of the movies along with the bias and grab their rating, the bias, and the movie."
   ]
  },
  {
   "cell_type": "code",
   "execution_count": 56,
   "metadata": {},
   "outputs": [],
   "source": [
    "games_ratings = [\n",
    "    (b, i, mean_recommended.loc[i]) for i, b in zip(games_most_reviews, games_bias)\n",
    "]"
   ]
  },
  {
   "cell_type": "code",
   "execution_count": 59,
   "metadata": {},
   "outputs": [
    {
     "data": {
      "text/plain": [
       "[(tensor(0.3446), 'ARK: Survival Evolved', 0.6077908564739546),\n",
       " (tensor(0.6748), 'The Witcher® 3: Wild Hunt', 0.9598967456439569),\n",
       " (tensor(0.3945), 'Dead by Daylight', 0.7161931532978617),\n",
       " (tensor(0.4813), 'Arma 3', 0.8803861788617886),\n",
       " (tensor(0.5515), 'Warframe', 0.9087073713816946),\n",
       " (tensor(0.4526), 'Dota 2', 0.8285532994923858),\n",
       " (tensor(0.6049), \"Sid Meier's Civilization® V\", 0.9277201076509035),\n",
       " (tensor(0.3980),\n",
       "  'The Elder Scrolls V: Skyrim Special Edition',\n",
       "  0.7412864385297845),\n",
       " (tensor(0.7258), 'Portal', 0.9755123306703717),\n",
       " (tensor(0.6305), \"Garry's Mod\", 0.9462745098039216)]"
      ]
     },
     "execution_count": 59,
     "metadata": {},
     "output_type": "execute_result"
    }
   ],
   "source": [
    "games_ratings[:10]"
   ]
  },
  {
   "cell_type": "code",
   "execution_count": 66,
   "metadata": {},
   "outputs": [
    {
     "data": {
      "text/plain": [
       "(tensor(0.3446), 'ARK: Survival Evolved', 0.6077908564739546)"
      ]
     },
     "execution_count": 66,
     "metadata": {},
     "output_type": "execute_result"
    }
   ],
   "source": [
    "games_ratings[0]"
   ]
  },
  {
   "cell_type": "code",
   "execution_count": 62,
   "metadata": {},
   "outputs": [
    {
     "data": {
      "text/plain": [
       "[(tensor(-0.0716), 'Spacebase DF-9', 0.1053639846743295),\n",
       " (tensor(-0.0352), \"Uriel's Chasm\", 0.23529411764705882),\n",
       " (tensor(0.0032), 'NBA 2K18', 0.36027713625866054),\n",
       " (tensor(0.0156), 'Towns', 0.1913978494623656),\n",
       " (tensor(0.0814), 'Voxelized', 0.25616698292220114),\n",
       " (tensor(0.0841),\n",
       "  'Magic 2015 - Duels of the Planeswalkers',\n",
       "  0.37662337662337664),\n",
       " (tensor(0.0865), 'X Rebirth', 0.3756906077348066),\n",
       " (tensor(0.1024), 'Edge of Space', 0.32821497120921306),\n",
       " (tensor(0.1067), 'Takedown: Red Sabre', 0.32142857142857145),\n",
       " (tensor(0.1089), 'Bless Online', 0.31296296296296294),\n",
       " (tensor(0.1247), 'Argo', 0.4258160237388724),\n",
       " (tensor(0.1296), 'Castle Story', 0.40963855421686746),\n",
       " (tensor(0.1318), 'Enemy Front', 0.5434782608695652),\n",
       " (tensor(0.1396), 'NBA 2K17', 0.5561643835616439),\n",
       " (tensor(0.1424), 'NBA 2K19', 0.44638949671772427)]"
      ]
     },
     "execution_count": 62,
     "metadata": {},
     "output_type": "execute_result"
    }
   ],
   "source": [
    "# The value of the key parameter should be\n",
    "# a function that takes a single argument and returns a key to use for sorting purposes.\n",
    "# to sort by tensors, we need to choose [0] in this case\n",
    "sorted(games_ratings, key=lambda o: o[0])[:15]"
   ]
  },
  {
   "cell_type": "code",
   "execution_count": 68,
   "metadata": {},
   "outputs": [
    {
     "data": {
      "text/plain": [
       "[(tensor(0.7689), 'Infested Planet', 0.9105367793240556),\n",
       " (tensor(0.7580), 'Primordia', 0.9753914988814317),\n",
       " (tensor(0.7562), 'Creeper World 3: Arc Eternal', 0.9424603174603174),\n",
       " (tensor(0.7529),\n",
       "  \"Defender's Quest: Valley of the Forgotten (DX edition)\",\n",
       "  0.9628318584070796),\n",
       " (tensor(0.7527), 'The Room', 0.9657534246575342),\n",
       " (tensor(0.7454), 'Hexcells Infinite', 0.9661399548532731),\n",
       " (tensor(0.7446), 'DUSK', 0.9716981132075472),\n",
       " (tensor(0.7433), 'Infinifactory', 0.9346733668341709),\n",
       " (tensor(0.7419), 'GemCraft - Chasing Shadows', 0.9441964285714286),\n",
       " (tensor(0.7414), 'West of Loathing', 0.9693140794223827),\n",
       " (tensor(0.7396), 'RollerCoaster Tycoon®: Deluxe', 0.9692671394799054),\n",
       " (tensor(0.7381), 'The Swapper', 0.9474576271186441),\n",
       " (tensor(0.7379), 'Hot Dogs, Horseshoes & Hand Grenades', 0.9552669552669553),\n",
       " (tensor(0.7370), 'Downwell', 0.9617428267800212),\n",
       " (tensor(0.7356), 'Orcs Must Die!', 0.9526372443487621)]"
      ]
     },
     "execution_count": 68,
     "metadata": {},
     "output_type": "execute_result"
    }
   ],
   "source": [
    "sorted(games_ratings, key=lambda o: o[0], reverse=True)[:15]"
   ]
  },
  {
   "cell_type": "markdown",
   "metadata": {},
   "source": [
    "### games wieghts"
   ]
  },
  {
   "cell_type": "code",
   "execution_count": 72,
   "metadata": {},
   "outputs": [],
   "source": [
    "game_w = learn.weight(games_most_reviews, is_item=True)"
   ]
  },
  {
   "cell_type": "code",
   "execution_count": 74,
   "metadata": {},
   "outputs": [
    {
     "data": {
      "text/plain": [
       "torch.Size([1000, 50])"
      ]
     },
     "execution_count": 74,
     "metadata": {},
     "output_type": "execute_result"
    }
   ],
   "source": [
    "game_w.shape"
   ]
  },
  {
   "cell_type": "code",
   "execution_count": 79,
   "metadata": {},
   "outputs": [],
   "source": [
    "def _pca(x, k=2):\n",
    "    \"Compute PCA of `x` with `k` dimensions.\"\n",
    "    x = x-torch.mean(x,0)\n",
    "    U,S,V = torch.svd(x.t())\n",
    "    return torch.mm(x,U[:,:k])\n",
    "torch.Tensor.pca = _pca"
   ]
  },
  {
   "cell_type": "code",
   "execution_count": 191,
   "metadata": {},
   "outputs": [],
   "source": [
    "game_pca = game_w.pca(3)"
   ]
  },
  {
   "cell_type": "code",
   "execution_count": 192,
   "metadata": {},
   "outputs": [],
   "source": [
    "fac0,fac1,fac2 = game_pca.t()"
   ]
  },
  {
   "cell_type": "code",
   "execution_count": 193,
   "metadata": {},
   "outputs": [],
   "source": [
    "game_comp = [(f, i) for f,i in zip(fac0, games_most_reviews)]"
   ]
  },
  {
   "cell_type": "code",
   "execution_count": 194,
   "metadata": {},
   "outputs": [
    {
     "data": {
      "text/plain": [
       "[(tensor(0.7812), 'NBA 2K17'),\n",
       " (tensor(0.5938), 'Dinosaur Hunt'),\n",
       " (tensor(0.5787), 'Dungeon Defenders II'),\n",
       " (tensor(0.5767), 'X-Blades'),\n",
       " (tensor(0.5741), 'The Elder Scrolls®: Legends™'),\n",
       " (tensor(0.5654), 'Space Hulk: Deathwing - Enhanced Edition'),\n",
       " (tensor(0.5545), 'CPUCores :: Maximize Your FPS'),\n",
       " (tensor(0.5324), 'MapleStory'),\n",
       " (tensor(0.5280), 'Hurtworld'),\n",
       " (tensor(0.5267), 'Blockstorm'),\n",
       " (tensor(0.5124), 'AdVenture Communist'),\n",
       " (tensor(0.5038), 'Tharsis'),\n",
       " (tensor(0.4814), 'Deathgarden'),\n",
       " (tensor(0.4808), 'Medieval Engineers'),\n",
       " (tensor(0.4805), 'Friday the 13th: The Game')]"
      ]
     },
     "execution_count": 194,
     "metadata": {},
     "output_type": "execute_result"
    }
   ],
   "source": [
    "sorted(game_comp, key=itemgetter(0), reverse=True)[:15]"
   ]
  },
  {
   "cell_type": "code",
   "execution_count": 195,
   "metadata": {},
   "outputs": [],
   "source": [
    "game_comp = [(f, i) for f,i in zip(fac1, games_most_reviews)]"
   ]
  },
  {
   "cell_type": "code",
   "execution_count": 196,
   "metadata": {},
   "outputs": [
    {
     "data": {
      "text/plain": [
       "[(tensor(0.8634), 'Dead Bits'),\n",
       " (tensor(0.8394), 'Warhammer 40,000: Eternal Crusade'),\n",
       " (tensor(0.7085), 'SURVIVAL'),\n",
       " (tensor(0.6900), 'Argo'),\n",
       " (tensor(0.6821), 'Towns'),\n",
       " (tensor(0.6788), 'Hurtworld'),\n",
       " (tensor(0.6594), 'Z1 Battle Royale'),\n",
       " (tensor(0.6489), 'Dead Realm'),\n",
       " (tensor(0.6444), 'BRINK'),\n",
       " (tensor(0.6373), 'Reign Of Kings'),\n",
       " (tensor(0.6308), 'Warhammer 40,000: Dawn of War III'),\n",
       " (tensor(0.6277), 'Homefront®: The Revolution'),\n",
       " (tensor(0.6140), 'X-Blades'),\n",
       " (tensor(0.6015), 'ATLAS'),\n",
       " (tensor(0.5873), 'Line of Sight')]"
      ]
     },
     "execution_count": 196,
     "metadata": {},
     "output_type": "execute_result"
    }
   ],
   "source": [
    "sorted(game_comp, key=itemgetter(0), reverse=True)[:15]"
   ]
  },
  {
   "cell_type": "code",
   "execution_count": 197,
   "metadata": {},
   "outputs": [],
   "source": [
    "game_comp = [(f, i) for f,i in zip(fac2, games_most_reviews)]"
   ]
  },
  {
   "cell_type": "code",
   "execution_count": 198,
   "metadata": {},
   "outputs": [
    {
     "data": {
      "text/plain": [
       "[(tensor(0.7087), 'Anno 2070™'),\n",
       " (tensor(0.6674), 'Jurassic World Evolution'),\n",
       " (tensor(0.6569), 'The Crew™'),\n",
       " (tensor(0.6097), 'Agents of Mayhem'),\n",
       " (tensor(0.5818), 'Blood Bowl 2'),\n",
       " (tensor(0.5452), 'StarMade'),\n",
       " (tensor(0.5284), 'GRAV'),\n",
       " (tensor(0.4921), 'Counter-Strike Nexon: Zombies'),\n",
       " (tensor(0.4895), \"Dragon's Dogma: Dark Arisen\"),\n",
       " (tensor(0.4516), 'DRAGON BALL XENOVERSE 2'),\n",
       " (tensor(0.4511), 'Kentucky Route Zero'),\n",
       " (tensor(0.4360), 'Divinity: Dragon Commander'),\n",
       " (tensor(0.4309), 'BRINK'),\n",
       " (tensor(0.4286), 'bit Dungeon II'),\n",
       " (tensor(0.4144), 'Dead Frontier 2')]"
      ]
     },
     "execution_count": 198,
     "metadata": {},
     "output_type": "execute_result"
    }
   ],
   "source": [
    "sorted(game_comp, key=itemgetter(0), reverse=True)[:15]"
   ]
  },
  {
   "cell_type": "code",
   "execution_count": 136,
   "metadata": {},
   "outputs": [],
   "source": [
    "idxs = np.random.choice(len(games_most_reviews), 30, replace=False)"
   ]
  },
  {
   "cell_type": "code",
   "execution_count": 155,
   "metadata": {},
   "outputs": [
    {
     "data": {
      "text/html": [
       "<div>\n",
       "<style scoped>\n",
       "    .dataframe tbody tr th:only-of-type {\n",
       "        vertical-align: middle;\n",
       "    }\n",
       "\n",
       "    .dataframe tbody tr th {\n",
       "        vertical-align: top;\n",
       "    }\n",
       "\n",
       "    .dataframe thead th {\n",
       "        text-align: right;\n",
       "    }\n",
       "</style>\n",
       "<table border=\"1\" class=\"dataframe\">\n",
       "  <thead>\n",
       "    <tr style=\"text-align: right;\">\n",
       "      <th></th>\n",
       "      <th>name</th>\n",
       "    </tr>\n",
       "  </thead>\n",
       "  <tbody>\n",
       "    <tr>\n",
       "      <td>0</td>\n",
       "      <td>ARK: Survival Evolved</td>\n",
       "    </tr>\n",
       "    <tr>\n",
       "      <td>1</td>\n",
       "      <td>The Witcher® 3: Wild Hunt</td>\n",
       "    </tr>\n",
       "    <tr>\n",
       "      <td>2</td>\n",
       "      <td>Dead by Daylight</td>\n",
       "    </tr>\n",
       "    <tr>\n",
       "      <td>3</td>\n",
       "      <td>Arma 3</td>\n",
       "    </tr>\n",
       "    <tr>\n",
       "      <td>4</td>\n",
       "      <td>Warframe</td>\n",
       "    </tr>\n",
       "    <tr>\n",
       "      <td>...</td>\n",
       "      <td>...</td>\n",
       "    </tr>\n",
       "    <tr>\n",
       "      <td>995</td>\n",
       "      <td>Yakuza Kiwami</td>\n",
       "    </tr>\n",
       "    <tr>\n",
       "      <td>996</td>\n",
       "      <td>bit Dungeon II</td>\n",
       "    </tr>\n",
       "    <tr>\n",
       "      <td>997</td>\n",
       "      <td>Gemini Rue</td>\n",
       "    </tr>\n",
       "    <tr>\n",
       "      <td>998</td>\n",
       "      <td>Gas Guzzlers Extreme</td>\n",
       "    </tr>\n",
       "    <tr>\n",
       "      <td>999</td>\n",
       "      <td>Bleed</td>\n",
       "    </tr>\n",
       "  </tbody>\n",
       "</table>\n",
       "<p>1000 rows × 1 columns</p>\n",
       "</div>"
      ],
      "text/plain": [
       "                          name\n",
       "0        ARK: Survival Evolved\n",
       "1    The Witcher® 3: Wild Hunt\n",
       "2             Dead by Daylight\n",
       "3                       Arma 3\n",
       "4                     Warframe\n",
       "..                         ...\n",
       "995              Yakuza Kiwami\n",
       "996             bit Dungeon II\n",
       "997                 Gemini Rue\n",
       "998       Gas Guzzlers Extreme\n",
       "999                      Bleed\n",
       "\n",
       "[1000 rows x 1 columns]"
      ]
     },
     "execution_count": 155,
     "metadata": {},
     "output_type": "execute_result"
    }
   ],
   "source": [
    "df = pd.DataFrame(games_most_reviews)\n",
    "df.columns = [\"name\"]"
   ]
  },
  {
   "cell_type": "code",
   "execution_count": 166,
   "metadata": {},
   "outputs": [
    {
     "data": {
      "text/html": [
       "<div>\n",
       "<style scoped>\n",
       "    .dataframe tbody tr th:only-of-type {\n",
       "        vertical-align: middle;\n",
       "    }\n",
       "\n",
       "    .dataframe tbody tr th {\n",
       "        vertical-align: top;\n",
       "    }\n",
       "\n",
       "    .dataframe thead th {\n",
       "        text-align: right;\n",
       "    }\n",
       "</style>\n",
       "<table border=\"1\" class=\"dataframe\">\n",
       "  <thead>\n",
       "    <tr style=\"text-align: right;\">\n",
       "      <th></th>\n",
       "      <th>name</th>\n",
       "    </tr>\n",
       "  </thead>\n",
       "  <tbody>\n",
       "    <tr>\n",
       "      <td>187</td>\n",
       "      <td>DARK SOULS™: REMASTERED</td>\n",
       "    </tr>\n",
       "    <tr>\n",
       "      <td>387</td>\n",
       "      <td>DARK SOULS™ III</td>\n",
       "    </tr>\n",
       "  </tbody>\n",
       "</table>\n",
       "</div>"
      ],
      "text/plain": [
       "                        name\n",
       "187  DARK SOULS™: REMASTERED\n",
       "387          DARK SOULS™ III"
      ]
     },
     "execution_count": 166,
     "metadata": {},
     "output_type": "execute_result"
    }
   ],
   "source": [
    "df[df[\"name\"].str.contains(\"DARK SOULS\")]"
   ]
  },
  {
   "cell_type": "code",
   "execution_count": 167,
   "metadata": {},
   "outputs": [
    {
     "data": {
      "text/html": [
       "<div>\n",
       "<style scoped>\n",
       "    .dataframe tbody tr th:only-of-type {\n",
       "        vertical-align: middle;\n",
       "    }\n",
       "\n",
       "    .dataframe tbody tr th {\n",
       "        vertical-align: top;\n",
       "    }\n",
       "\n",
       "    .dataframe thead th {\n",
       "        text-align: right;\n",
       "    }\n",
       "</style>\n",
       "<table border=\"1\" class=\"dataframe\">\n",
       "  <thead>\n",
       "    <tr style=\"text-align: right;\">\n",
       "      <th></th>\n",
       "      <th>name</th>\n",
       "    </tr>\n",
       "  </thead>\n",
       "  <tbody>\n",
       "    <tr>\n",
       "      <td>99</td>\n",
       "      <td>Factorio</td>\n",
       "    </tr>\n",
       "  </tbody>\n",
       "</table>\n",
       "</div>"
      ],
      "text/plain": [
       "        name\n",
       "99  Factorio"
      ]
     },
     "execution_count": 167,
     "metadata": {},
     "output_type": "execute_result"
    }
   ],
   "source": [
    "df[df[\"name\"].str.contains(\"Factor\")]"
   ]
  },
  {
   "cell_type": "code",
   "execution_count": 173,
   "metadata": {},
   "outputs": [],
   "source": [
    "my_fav_games_idx = [187, 387, 99]"
   ]
  },
  {
   "cell_type": "code",
   "execution_count": 179,
   "metadata": {},
   "outputs": [],
   "source": [
    "idxs = list(range(27))"
   ]
  },
  {
   "cell_type": "code",
   "execution_count": 180,
   "metadata": {},
   "outputs": [],
   "source": [
    "for i in my_fav_games_idx:\n",
    "    idxs.append(i)"
   ]
  },
  {
   "cell_type": "code",
   "execution_count": 188,
   "metadata": {},
   "outputs": [
    {
     "data": {
      "image/png": "[encoded data removed]",
      "text/plain": [
       "<Figure size 1080x1080 with 1 Axes>"
      ]
     },
     "metadata": {
      "needs_background": "light"
     },
     "output_type": "display_data"
    }
   ],
   "source": [
    "X = fac0[idxs]\n",
    "Y = fac1[idxs]\n",
    "plt.figure(figsize=(15,15))\n",
    "plt.scatter(X, Y)\n",
    "for i, x, y in zip(games_most_reviews[idxs], X, Y):\n",
    "    plt.text(x,y,i, color=np.random.rand(3)*0.7, fontsize=11)\n",
    "plt.show()"
   ]
  },
  {
   "cell_type": "code",
   "execution_count": 189,
   "metadata": {},
   "outputs": [
    {
     "data": {
      "image/png": "[encoded data removed]",
      "text/plain": [
       "<Figure size 1080x1080 with 1 Axes>"
      ]
     },
     "metadata": {
      "needs_background": "light"
     },
     "output_type": "display_data"
    }
   ],
   "source": [
    "X = fac0[idxs]\n",
    "Y = fac2[idxs]\n",
    "plt.figure(figsize=(15,15))\n",
    "plt.scatter(X, Y)\n",
    "for i, x, y in zip(games_most_reviews[idxs], X, Y):\n",
    "    plt.text(x,y,i, color=np.random.rand(3)*0.7, fontsize=11)\n",
    "plt.show()"
   ]
  },
  {
   "cell_type": "code",
   "execution_count": 190,
   "metadata": {},
   "outputs": [
    {
     "data": {
      "image/png": "[encoded data removed]",
      "text/plain": [
       "<Figure size 1080x1080 with 1 Axes>"
      ]
     },
     "metadata": {
      "needs_background": "light"
     },
     "output_type": "display_data"
    }
   ],
   "source": [
    "X = fac1[idxs]\n",
    "Y = fac2[idxs]\n",
    "plt.figure(figsize=(15,15))\n",
    "plt.scatter(X, Y)\n",
    "for i, x, y in zip(games_most_reviews[idxs], X, Y):\n",
    "    plt.text(x,y,i, color=np.random.rand(3)*0.7, fontsize=11)\n",
    "plt.show()"
   ]
  }
 ],
 "metadata": {
  "kernelspec": {
   "display_name": "Python 3",
   "language": "python",
   "name": "python3"
  },
  "language_info": {
   "codemirror_mode": {
    "name": "ipython",
    "version": 3
   },
   "file_extension": ".py",
   "mimetype": "text/x-python",
   "name": "python",
   "nbconvert_exporter": "python",
   "pygments_lexer": "ipython3",
   "version": "3.7.4"
  },
  "varInspector": {
   "cols": {
    "lenName": 16,
    "lenType": 16,
    "lenVar": 40
   },
   "kernels_config": {
    "python": {
     "delete_cmd_postfix": "",
     "delete_cmd_prefix": "del ",
     "library": "var_list.py",
     "varRefreshCmd": "print(var_dic_list())"
    },
    "r": {
     "delete_cmd_postfix": ") ",
     "delete_cmd_prefix": "rm(",
     "library": "var_list.r",
     "varRefreshCmd": "cat(var_dic_list()) "
    }
   },
   "types_to_exclude": [
    "module",
    "function",
    "builtin_function_or_method",
    "instance",
    "_Feature"
   ],
   "window_display": false
  }
 },
 "nbformat": 4,
 "nbformat_minor": 2
}
