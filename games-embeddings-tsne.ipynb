{
 "cells": [
  {
   "cell_type": "code",
   "execution_count": 1,
   "metadata": {},
   "outputs": [],
   "source": [
    "import pandas as pd"
   ]
  },
  {
   "cell_type": "code",
   "execution_count": 2,
   "metadata": {},
   "outputs": [],
   "source": [
    "# https://www.kaggle.com/nikdavis/datasets"
   ]
  },
  {
   "cell_type": "markdown",
   "metadata": {},
   "source": [
    "## interpretation"
   ]
  },
  {
   "cell_type": "markdown",
   "metadata": {},
   "source": [
    "### setup"
   ]
  },
  {
   "cell_type": "code",
   "execution_count": 3,
   "metadata": {},
   "outputs": [],
   "source": [
    "from fastai.collab import *"
   ]
  },
  {
   "cell_type": "code",
   "execution_count": 4,
   "metadata": {},
   "outputs": [],
   "source": [
    "df_shuffle = pd.read_hdf(\"df_shuffle.h5\", \"df_shuffle\")"
   ]
  },
  {
   "cell_type": "code",
   "execution_count": 5,
   "metadata": {},
   "outputs": [],
   "source": [
    "data = CollabDataBunch.from_df(\n",
    "    df_shuffle,\n",
    "    user_name=\"username\",\n",
    "    item_name=\"name\",\n",
    "    rating_name=\"recommended\",\n",
    "    seed=36,\n",
    ")"
   ]
  },
  {
   "cell_type": "code",
   "execution_count": 6,
   "metadata": {},
   "outputs": [],
   "source": [
    "train_dataset = data.train_ds.inner_df"
   ]
  },
  {
   "cell_type": "code",
   "execution_count": 7,
   "metadata": {},
   "outputs": [],
   "source": [
    "learn = collab_learner(data, n_factors=50)"
   ]
  },
  {
   "cell_type": "code",
   "execution_count": 8,
   "metadata": {},
   "outputs": [
    {
     "data": {
      "text/plain": [
       "CollabLearner(data=TabularDataBunch;\n",
       "\n",
       "Train: LabelList (1388139 items)\n",
       "x: CollabList\n",
       "username Grunt95; name House Party; ,username 「Ｂｏｋｕ♥」; name Evoland; ,username Beans; name My Sunny Resort; ,username Styxplorer; name BlazeRush; ,username (YouTube)Dragnix; name Undead Shadows; \n",
       "y: FloatList\n",
       "1.0,0.0,0.0,0.0,0.0\n",
       "Path: .;\n",
       "\n",
       "Valid: LabelList (347034 items)\n",
       "x: CollabList\n",
       "username Dwigt; name Rivals of Aether; ,username lmao; name The Witcher® 3: Wild Hunt; ,username o}}{{![)3; name GRID 2; ,username unknowncity; name ETHER VAPOR Remaster; ,username BIRDMAN ~ VEGAN FUTURE; name Supraland; \n",
       "y: FloatList\n",
       "1.0,1.0,1.0,0.0,1.0\n",
       "Path: .;\n",
       "\n",
       "Test: None, model=EmbeddingDotBias(\n",
       "  (u_weight): Embedding(36539, 50)\n",
       "  (i_weight): Embedding(21255, 50)\n",
       "  (u_bias): Embedding(36539, 1)\n",
       "  (i_bias): Embedding(21255, 1)\n",
       "), opt_func=functools.partial(<class 'torch.optim.adam.Adam'>, betas=(0.9, 0.99)), loss_func=FlattenedLoss of MSELoss(), metrics=[], true_wd=True, bn_wd=True, wd=0.01, train_bn=True, path=PosixPath('.'), model_dir='models', callback_fns=[functools.partial(<class 'fastai.basic_train.Recorder'>, add_time=True, silent=False)], callbacks=[], layer_groups=[Sequential(\n",
       "  (0): Embedding(36539, 50)\n",
       "  (1): Embedding(21255, 50)\n",
       "  (2): Embedding(36539, 1)\n",
       "  (3): Embedding(21255, 1)\n",
       ")], add_time=True, silent=False)"
      ]
     },
     "execution_count": 8,
     "metadata": {},
     "output_type": "execute_result"
    }
   ],
   "source": [
    "learn.load(\"dotprod4\")"
   ]
  },
  {
   "cell_type": "code",
   "execution_count": 9,
   "metadata": {},
   "outputs": [
    {
     "data": {
      "text/plain": [
       "EmbeddingDotBias(\n",
       "  (u_weight): Embedding(36539, 50)\n",
       "  (i_weight): Embedding(21255, 50)\n",
       "  (u_bias): Embedding(36539, 1)\n",
       "  (i_bias): Embedding(21255, 1)\n",
       ")"
      ]
     },
     "execution_count": 9,
     "metadata": {},
     "output_type": "execute_result"
    }
   ],
   "source": [
    "learn.model"
   ]
  },
  {
   "cell_type": "code",
   "execution_count": 10,
   "metadata": {},
   "outputs": [],
   "source": [
    "reviews = pd.read_hdf(\"df_shuffle.h5\", \"df_shuffle\")"
   ]
  },
  {
   "cell_type": "code",
   "execution_count": 11,
   "metadata": {},
   "outputs": [],
   "source": [
    "games_most_reviews_df = (\n",
    "    reviews.groupby(\"name\")[\"recommended\"]\n",
    "    .sum()\n",
    "    .sort_values(ascending=False)\n",
    "    .reset_index()[:1000]\n",
    ")"
   ]
  },
  {
   "cell_type": "code",
   "execution_count": 12,
   "metadata": {},
   "outputs": [],
   "source": [
    "g = reviews.groupby(\"name\")[\"recommended\"].count()"
   ]
  },
  {
   "cell_type": "code",
   "execution_count": 13,
   "metadata": {},
   "outputs": [],
   "source": [
    "games_most_reviews = g.sort_values(ascending=False).index.values[:1000] = g.sort_values(\n",
    "    ascending=False\n",
    ").index.values[:1000]"
   ]
  },
  {
   "cell_type": "code",
   "execution_count": 14,
   "metadata": {},
   "outputs": [
    {
     "data": {
      "text/plain": [
       "array(['ARK: Survival Evolved', 'The Witcher® 3: Wild Hunt', 'Dead by Daylight', 'Arma 3', 'Warframe', 'Dota 2',\n",
       "       \"Sid Meier's Civilization® V\", 'The Elder Scrolls V: Skyrim Special Edition', 'Portal', \"Garry's Mod\"],\n",
       "      dtype=object)"
      ]
     },
     "execution_count": 14,
     "metadata": {},
     "output_type": "execute_result"
    }
   ],
   "source": [
    "games_most_reviews[:10]"
   ]
  },
  {
   "cell_type": "code",
   "execution_count": 15,
   "metadata": {
    "scrolled": true
   },
   "outputs": [
    {
     "data": {
      "text/html": [
       "<div>\n",
       "<style scoped>\n",
       "    .dataframe tbody tr th:only-of-type {\n",
       "        vertical-align: middle;\n",
       "    }\n",
       "\n",
       "    .dataframe tbody tr th {\n",
       "        vertical-align: top;\n",
       "    }\n",
       "\n",
       "    .dataframe thead th {\n",
       "        text-align: right;\n",
       "    }\n",
       "</style>\n",
       "<table border=\"1\" class=\"dataframe\">\n",
       "  <thead>\n",
       "    <tr style=\"text-align: right;\">\n",
       "      <th></th>\n",
       "      <th>name</th>\n",
       "      <th>recommended</th>\n",
       "    </tr>\n",
       "  </thead>\n",
       "  <tbody>\n",
       "    <tr>\n",
       "      <td>0</td>\n",
       "      <td>The Witcher® 3: Wild Hunt</td>\n",
       "      <td>10412.0</td>\n",
       "    </tr>\n",
       "    <tr>\n",
       "      <td>1</td>\n",
       "      <td>ARK: Survival Evolved</td>\n",
       "      <td>9346.0</td>\n",
       "    </tr>\n",
       "    <tr>\n",
       "      <td>2</td>\n",
       "      <td>Arma 3</td>\n",
       "      <td>8663.0</td>\n",
       "    </tr>\n",
       "    <tr>\n",
       "      <td>3</td>\n",
       "      <td>Warframe</td>\n",
       "      <td>7754.0</td>\n",
       "    </tr>\n",
       "    <tr>\n",
       "      <td>4</td>\n",
       "      <td>Sid Meier's Civilization® V</td>\n",
       "      <td>7239.0</td>\n",
       "    </tr>\n",
       "    <tr>\n",
       "      <td>5</td>\n",
       "      <td>Dead by Daylight</td>\n",
       "      <td>7134.0</td>\n",
       "    </tr>\n",
       "    <tr>\n",
       "      <td>6</td>\n",
       "      <td>Dota 2</td>\n",
       "      <td>6529.0</td>\n",
       "    </tr>\n",
       "    <tr>\n",
       "      <td>7</td>\n",
       "      <td>Portal</td>\n",
       "      <td>5617.0</td>\n",
       "    </tr>\n",
       "    <tr>\n",
       "      <td>8</td>\n",
       "      <td>Garry's Mod</td>\n",
       "      <td>4826.0</td>\n",
       "    </tr>\n",
       "    <tr>\n",
       "      <td>9</td>\n",
       "      <td>The Elder Scrolls V: Skyrim Special Edition</td>\n",
       "      <td>4679.0</td>\n",
       "    </tr>\n",
       "    <tr>\n",
       "      <td>10</td>\n",
       "      <td>Divinity: Original Sin 2 - Definitive Edition</td>\n",
       "      <td>4272.0</td>\n",
       "    </tr>\n",
       "    <tr>\n",
       "      <td>11</td>\n",
       "      <td>Killing Floor</td>\n",
       "      <td>4146.0</td>\n",
       "    </tr>\n",
       "    <tr>\n",
       "      <td>12</td>\n",
       "      <td>Risk of Rain 2</td>\n",
       "      <td>3994.0</td>\n",
       "    </tr>\n",
       "    <tr>\n",
       "      <td>13</td>\n",
       "      <td>Darkest Dungeon®</td>\n",
       "      <td>3745.0</td>\n",
       "    </tr>\n",
       "    <tr>\n",
       "      <td>14</td>\n",
       "      <td>Space Engineers</td>\n",
       "      <td>3554.0</td>\n",
       "    </tr>\n",
       "  </tbody>\n",
       "</table>\n",
       "</div>"
      ],
      "text/plain": [
       "                                             name  recommended\n",
       "0                       The Witcher® 3: Wild Hunt      10412.0\n",
       "1                           ARK: Survival Evolved       9346.0\n",
       "2                                          Arma 3       8663.0\n",
       "3                                        Warframe       7754.0\n",
       "4                     Sid Meier's Civilization® V       7239.0\n",
       "5                                Dead by Daylight       7134.0\n",
       "6                                          Dota 2       6529.0\n",
       "7                                          Portal       5617.0\n",
       "8                                     Garry's Mod       4826.0\n",
       "9     The Elder Scrolls V: Skyrim Special Edition       4679.0\n",
       "10  Divinity: Original Sin 2 - Definitive Edition       4272.0\n",
       "11                                  Killing Floor       4146.0\n",
       "12                                 Risk of Rain 2       3994.0\n",
       "13                               Darkest Dungeon®       3745.0\n",
       "14                                Space Engineers       3554.0"
      ]
     },
     "execution_count": 15,
     "metadata": {},
     "output_type": "execute_result"
    }
   ],
   "source": [
    "games_most_reviews_df.head(15)"
   ]
  },
  {
   "cell_type": "markdown",
   "metadata": {},
   "source": [
    "this shows, how unreliable (in terms of review numbers) was my scraper, because [Counter-Strike: Global Offensive](https://store.steampowered.com/app/730/CounterStrike_Global_Offensive/) has more then 3 000 000  reviews on website."
   ]
  },
  {
   "cell_type": "markdown",
   "metadata": {},
   "source": [
    "### games bias"
   ]
  },
  {
   "cell_type": "code",
   "execution_count": 22,
   "metadata": {},
   "outputs": [],
   "source": [
    "games_bias = learn.bias(games_most_reviews, is_item=True)"
   ]
  },
  {
   "cell_type": "code",
   "execution_count": 23,
   "metadata": {},
   "outputs": [
    {
     "data": {
      "text/plain": [
       "name\n",
       "The Puppet of Tersa: Episode One    1.0\n",
       "The Chronicles of Nyanya            1.0\n",
       "Keyboard Killers                    1.0\n",
       "Keeplanet                           1.0\n",
       "Kautic - The Bald Wizard            1.0\n",
       "                                   ... \n",
       "PRO DRIFT RELOADED                  0.0\n",
       "Escape Station                      0.0\n",
       "Splotches                           0.0\n",
       "Beginner'sGame                      0.0\n",
       "Breath of Warfare                   0.0\n",
       "Name: recommended, Length: 21831, dtype: float64"
      ]
     },
     "execution_count": 23,
     "metadata": {},
     "output_type": "execute_result"
    }
   ],
   "source": [
    "reviews.groupby(\"name\")[\"recommended\"].mean().sort_values(ascending=False)"
   ]
  },
  {
   "cell_type": "code",
   "execution_count": 24,
   "metadata": {},
   "outputs": [],
   "source": [
    "mean_recommended = reviews.groupby(\"name\")[\"recommended\"].mean()"
   ]
  },
  {
   "cell_type": "markdown",
   "metadata": {},
   "source": [
    " we can zip through (i.e. going through together) each of the movies along with the bias and grab their rating, the bias, and the movie."
   ]
  },
  {
   "cell_type": "code",
   "execution_count": 25,
   "metadata": {},
   "outputs": [],
   "source": [
    "games_ratings = [\n",
    "    (b, i, mean_recommended.loc[i]) for i, b in zip(games_most_reviews, games_bias)\n",
    "]"
   ]
  },
  {
   "cell_type": "code",
   "execution_count": 26,
   "metadata": {},
   "outputs": [
    {
     "data": {
      "text/plain": [
       "[(tensor(-0.0716), 'Spacebase DF-9', 0.1053639846743295),\n",
       " (tensor(-0.0352), \"Uriel's Chasm\", 0.23529411764705882),\n",
       " (tensor(0.0032), 'NBA 2K18', 0.36027713625866054),\n",
       " (tensor(0.0156), 'Towns', 0.1913978494623656),\n",
       " (tensor(0.0814), 'Voxelized', 0.25616698292220114),\n",
       " (tensor(0.0841),\n",
       "  'Magic 2015 - Duels of the Planeswalkers',\n",
       "  0.37662337662337664),\n",
       " (tensor(0.0865), 'X Rebirth', 0.3756906077348066),\n",
       " (tensor(0.1024), 'Edge of Space', 0.32821497120921306),\n",
       " (tensor(0.1067), 'Takedown: Red Sabre', 0.32142857142857145),\n",
       " (tensor(0.1089), 'Bless Online', 0.31296296296296294),\n",
       " (tensor(0.1247), 'Argo', 0.4258160237388724),\n",
       " (tensor(0.1296), 'Castle Story', 0.40963855421686746),\n",
       " (tensor(0.1318), 'Enemy Front', 0.5434782608695652),\n",
       " (tensor(0.1396), 'NBA 2K17', 0.5561643835616439),\n",
       " (tensor(0.1424), 'NBA 2K19', 0.44638949671772427)]"
      ]
     },
     "execution_count": 26,
     "metadata": {},
     "output_type": "execute_result"
    }
   ],
   "source": [
    "# The value of the key parameter should be\n",
    "# a function that takes a single argument and returns a key to use for sorting purposes.\n",
    "# to sort by tensors, we need to choose [0] in this case\n",
    "sorted(games_ratings, key=lambda o: o[0])[:15]"
   ]
  },
  {
   "cell_type": "code",
   "execution_count": 27,
   "metadata": {},
   "outputs": [
    {
     "data": {
      "text/plain": [
       "[(tensor(0.7689), 'Infested Planet', 0.9105367793240556),\n",
       " (tensor(0.7580), 'Primordia', 0.9753914988814317),\n",
       " (tensor(0.7562), 'Creeper World 3: Arc Eternal', 0.9424603174603174),\n",
       " (tensor(0.7529),\n",
       "  \"Defender's Quest: Valley of the Forgotten (DX edition)\",\n",
       "  0.9628318584070796),\n",
       " (tensor(0.7527), 'The Room', 0.9657534246575342),\n",
       " (tensor(0.7454), 'Hexcells Infinite', 0.9661399548532731),\n",
       " (tensor(0.7446), 'DUSK', 0.9716981132075472),\n",
       " (tensor(0.7433), 'Infinifactory', 0.9346733668341709),\n",
       " (tensor(0.7419), 'GemCraft - Chasing Shadows', 0.9441964285714286),\n",
       " (tensor(0.7414), 'West of Loathing', 0.9693140794223827),\n",
       " (tensor(0.7396), 'RollerCoaster Tycoon®: Deluxe', 0.9692671394799054),\n",
       " (tensor(0.7381), 'The Swapper', 0.9474576271186441),\n",
       " (tensor(0.7379), 'Hot Dogs, Horseshoes & Hand Grenades', 0.9552669552669553),\n",
       " (tensor(0.7370), 'Downwell', 0.9617428267800212),\n",
       " (tensor(0.7356), 'Orcs Must Die!', 0.9526372443487621)]"
      ]
     },
     "execution_count": 27,
     "metadata": {},
     "output_type": "execute_result"
    }
   ],
   "source": [
    "sorted(games_ratings, key=lambda o: o[0], reverse=True)[:15]"
   ]
  },
  {
   "cell_type": "markdown",
   "metadata": {},
   "source": [
    "### games wieghts"
   ]
  },
  {
   "cell_type": "code",
   "execution_count": 28,
   "metadata": {},
   "outputs": [],
   "source": [
    "game_w = learn.weight(games_most_reviews, is_item=True)"
   ]
  },
  {
   "cell_type": "code",
   "execution_count": 29,
   "metadata": {},
   "outputs": [
    {
     "data": {
      "text/plain": [
       "torch.Size([1000, 50])"
      ]
     },
     "execution_count": 29,
     "metadata": {},
     "output_type": "execute_result"
    }
   ],
   "source": [
    "game_w.shape"
   ]
  },
  {
   "cell_type": "markdown",
   "metadata": {},
   "source": [
    "### t-sne"
   ]
  },
  {
   "cell_type": "code",
   "execution_count": 35,
   "metadata": {},
   "outputs": [],
   "source": [
    "from sklearn.manifold import TSNE"
   ]
  },
  {
   "cell_type": "code",
   "execution_count": 40,
   "metadata": {},
   "outputs": [],
   "source": [
    "games_tsne = manifold.TSNE(n_components=2, perplexity=15).fit_transform(game_w)"
   ]
  },
  {
   "cell_type": "code",
   "execution_count": 41,
   "metadata": {},
   "outputs": [
    {
     "data": {
      "text/plain": [
       "(1000, 2)"
      ]
     },
     "execution_count": 41,
     "metadata": {},
     "output_type": "execute_result"
    }
   ],
   "source": [
    "games_tsne.shape"
   ]
  },
  {
   "cell_type": "code",
   "execution_count": 43,
   "metadata": {},
   "outputs": [
    {
     "data": {
      "text/plain": [
       "array([[  3.969733, -13.022898],\n",
       "       [  0.040654,  -3.601442],\n",
       "       [-12.698807,  12.138616],\n",
       "       [  5.090781,   9.056138],\n",
       "       ...,\n",
       "       [-17.636213,  -7.177533],\n",
       "       [ -5.194851,  -5.208589],\n",
       "       [-14.129226,   8.103152],\n",
       "       [ -0.261945, -25.282204]], dtype=float32)"
      ]
     },
     "execution_count": 43,
     "metadata": {},
     "output_type": "execute_result"
    }
   ],
   "source": [
    "games_tsne"
   ]
  },
  {
   "cell_type": "code",
   "execution_count": 45,
   "metadata": {},
   "outputs": [],
   "source": [
    "fac0, fac1 = games_tsne.transpose()"
   ]
  },
  {
   "cell_type": "code",
   "execution_count": 50,
   "metadata": {},
   "outputs": [],
   "source": [
    "game_comp = [(f, i) for f,i in zip(fac0, games_most_reviews)]"
   ]
  },
  {
   "cell_type": "code",
   "execution_count": 51,
   "metadata": {},
   "outputs": [
    {
     "data": {
      "text/plain": [
       "[(26.689043, 'Little Nightmares'),\n",
       " (26.59351, 'DiRT 4'),\n",
       " (26.258871, 'Absolver'),\n",
       " (26.253914, 'Age of Empires® III: Complete Collection'),\n",
       " (26.130074, 'Dead Bits'),\n",
       " (25.881939, 'Verdun'),\n",
       " (25.69265, 'AdVenture Communist'),\n",
       " (25.632948, 'Pathfinder: Kingmaker'),\n",
       " (25.614016, 'Need For Speed: Hot Pursuit'),\n",
       " (25.359003, 'BLOCKADE 3D'),\n",
       " (25.331806, 'Hunt Showdown'),\n",
       " (24.367685, 'TOXIKK™'),\n",
       " (23.954641, \"There's Poop In My Soup\"),\n",
       " (23.632477, 'Crysis'),\n",
       " (23.461464, \"Who's Your Daddy\")]"
      ]
     },
     "execution_count": 51,
     "metadata": {},
     "output_type": "execute_result"
    }
   ],
   "source": [
    "sorted(game_comp, key=itemgetter(0), reverse=True)[:15]"
   ]
  },
  {
   "cell_type": "code",
   "execution_count": 52,
   "metadata": {},
   "outputs": [
    {
     "data": {
      "text/plain": [
       "[(-26.88902, 'Steel Division: Normandy 44'),\n",
       " (-26.822351, 'Call of Duty®: WWII'),\n",
       " (-26.767324, 'Darwin Project'),\n",
       " (-26.569813, 'Binary Domain'),\n",
       " (-26.237543, 'Gotham City Impostors Free to Play'),\n",
       " (-25.380407, 'LOST PLANET® 3'),\n",
       " (-25.235868, 'DARK SOULS™: REMASTERED'),\n",
       " (-24.906261, 'Woodle Tree Adventures'),\n",
       " (-24.801075, 'Infinity Wars: Animated Trading Card Game'),\n",
       " (-24.773067, 'Puzzle Agent'),\n",
       " (-24.48638, 'Fallout Shelter'),\n",
       " (-24.193357, 'Street Fighter V'),\n",
       " (-24.065859, \"Dragon's Dogma: Dark Arisen\"),\n",
       " (-23.71603, 'Kairo'),\n",
       " (-23.694584, 'Realm Grinder')]"
      ]
     },
     "execution_count": 52,
     "metadata": {},
     "output_type": "execute_result"
    }
   ],
   "source": [
    "sorted(game_comp, key=itemgetter(0), reverse=False)[:15]"
   ]
  },
  {
   "cell_type": "code",
   "execution_count": 53,
   "metadata": {},
   "outputs": [],
   "source": [
    "game_comp = [(f, i) for f,i in zip(fac1, games_most_reviews)]"
   ]
  },
  {
   "cell_type": "code",
   "execution_count": 54,
   "metadata": {},
   "outputs": [
    {
     "data": {
      "text/plain": [
       "[(26.549915, 'Warhammer 40,000: Inquisitor - Martyr'),\n",
       " (25.928406, 'Citadel: Forged with Fire'),\n",
       " (25.774029, 'Scrap Mechanic'),\n",
       " (25.532923, 'Life is Strange 2'),\n",
       " (24.606056, 'How to Survive'),\n",
       " (24.33081, 'Clicker Heroes'),\n",
       " (24.312986, 'NBA 2K18'),\n",
       " (24.266384,\n",
       "  'Valiant Hearts: The Great War™ / Soldats Inconnus : Mémoires de la Grande Guerre™'),\n",
       " (24.126266, 'GRID Autosport'),\n",
       " (23.858652, 'Edge of Space'),\n",
       " (23.822657, 'Dirty Bomb®'),\n",
       " (23.807943, 'Bomber Crew'),\n",
       " (23.677738, 'Home'),\n",
       " (23.22832, 'Blockland'),\n",
       " (22.86463, 'Call to Arms')]"
      ]
     },
     "execution_count": 54,
     "metadata": {},
     "output_type": "execute_result"
    }
   ],
   "source": [
    "sorted(game_comp, key=itemgetter(0), reverse=True)[:15]"
   ]
  },
  {
   "cell_type": "code",
   "execution_count": 55,
   "metadata": {},
   "outputs": [
    {
     "data": {
      "text/plain": [
       "[(-27.223137, 'Metro: Last Light Redux'),\n",
       " (-27.22292, 'Metro 2033 Redux'),\n",
       " (-25.404434, 'Fishing Planet'),\n",
       " (-25.282204, 'Bleed'),\n",
       " (-25.253752, \"PLAYERUNKNOWN'S BATTLEGROUNDS\"),\n",
       " (-24.233068, 'Max Payne 3'),\n",
       " (-22.835596, 'FORCED: Slightly Better Edition'),\n",
       " (-22.4712, 'South Park™: The Fractured But Whole™'),\n",
       " (-22.342987, 'Crusader Kings II'),\n",
       " (-22.220577, 'Reus'),\n",
       " (-22.139223, 'Goat Simulator'),\n",
       " (-22.114996, 'Gems of War - Puzzle RPG'),\n",
       " (-21.62434, 'Dinosaur Hunt'),\n",
       " (-21.538359, 'Hatred'),\n",
       " (-21.378515, 'Zombie Army Trilogy')]"
      ]
     },
     "execution_count": 55,
     "metadata": {},
     "output_type": "execute_result"
    }
   ],
   "source": [
    "sorted(game_comp, key=itemgetter(0), reverse=False)[:15]"
   ]
  },
  {
   "cell_type": "code",
   "execution_count": 56,
   "metadata": {},
   "outputs": [],
   "source": [
    "idxs = np.random.choice(len(games_most_reviews), 30, replace=False)"
   ]
  },
  {
   "cell_type": "code",
   "execution_count": 57,
   "metadata": {},
   "outputs": [],
   "source": [
    "df = pd.DataFrame(games_most_reviews)\n",
    "df.columns = [\"name\"]"
   ]
  },
  {
   "cell_type": "code",
   "execution_count": 58,
   "metadata": {},
   "outputs": [
    {
     "data": {
      "text/html": [
       "<div>\n",
       "<style scoped>\n",
       "    .dataframe tbody tr th:only-of-type {\n",
       "        vertical-align: middle;\n",
       "    }\n",
       "\n",
       "    .dataframe tbody tr th {\n",
       "        vertical-align: top;\n",
       "    }\n",
       "\n",
       "    .dataframe thead th {\n",
       "        text-align: right;\n",
       "    }\n",
       "</style>\n",
       "<table border=\"1\" class=\"dataframe\">\n",
       "  <thead>\n",
       "    <tr style=\"text-align: right;\">\n",
       "      <th></th>\n",
       "      <th>name</th>\n",
       "    </tr>\n",
       "  </thead>\n",
       "  <tbody>\n",
       "    <tr>\n",
       "      <td>0</td>\n",
       "      <td>ARK: Survival Evolved</td>\n",
       "    </tr>\n",
       "    <tr>\n",
       "      <td>1</td>\n",
       "      <td>The Witcher® 3: Wild Hunt</td>\n",
       "    </tr>\n",
       "    <tr>\n",
       "      <td>2</td>\n",
       "      <td>Dead by Daylight</td>\n",
       "    </tr>\n",
       "    <tr>\n",
       "      <td>3</td>\n",
       "      <td>Arma 3</td>\n",
       "    </tr>\n",
       "    <tr>\n",
       "      <td>4</td>\n",
       "      <td>Warframe</td>\n",
       "    </tr>\n",
       "    <tr>\n",
       "      <td>...</td>\n",
       "      <td>...</td>\n",
       "    </tr>\n",
       "    <tr>\n",
       "      <td>995</td>\n",
       "      <td>Yakuza Kiwami</td>\n",
       "    </tr>\n",
       "    <tr>\n",
       "      <td>996</td>\n",
       "      <td>bit Dungeon II</td>\n",
       "    </tr>\n",
       "    <tr>\n",
       "      <td>997</td>\n",
       "      <td>Gemini Rue</td>\n",
       "    </tr>\n",
       "    <tr>\n",
       "      <td>998</td>\n",
       "      <td>Gas Guzzlers Extreme</td>\n",
       "    </tr>\n",
       "    <tr>\n",
       "      <td>999</td>\n",
       "      <td>Bleed</td>\n",
       "    </tr>\n",
       "  </tbody>\n",
       "</table>\n",
       "<p>1000 rows × 1 columns</p>\n",
       "</div>"
      ],
      "text/plain": [
       "                          name\n",
       "0        ARK: Survival Evolved\n",
       "1    The Witcher® 3: Wild Hunt\n",
       "2             Dead by Daylight\n",
       "3                       Arma 3\n",
       "4                     Warframe\n",
       "..                         ...\n",
       "995              Yakuza Kiwami\n",
       "996             bit Dungeon II\n",
       "997                 Gemini Rue\n",
       "998       Gas Guzzlers Extreme\n",
       "999                      Bleed\n",
       "\n",
       "[1000 rows x 1 columns]"
      ]
     },
     "execution_count": 58,
     "metadata": {},
     "output_type": "execute_result"
    }
   ],
   "source": [
    "df"
   ]
  },
  {
   "cell_type": "code",
   "execution_count": 59,
   "metadata": {},
   "outputs": [
    {
     "data": {
      "text/html": [
       "<div>\n",
       "<style scoped>\n",
       "    .dataframe tbody tr th:only-of-type {\n",
       "        vertical-align: middle;\n",
       "    }\n",
       "\n",
       "    .dataframe tbody tr th {\n",
       "        vertical-align: top;\n",
       "    }\n",
       "\n",
       "    .dataframe thead th {\n",
       "        text-align: right;\n",
       "    }\n",
       "</style>\n",
       "<table border=\"1\" class=\"dataframe\">\n",
       "  <thead>\n",
       "    <tr style=\"text-align: right;\">\n",
       "      <th></th>\n",
       "      <th>name</th>\n",
       "    </tr>\n",
       "  </thead>\n",
       "  <tbody>\n",
       "    <tr>\n",
       "      <td>187</td>\n",
       "      <td>DARK SOULS™: REMASTERED</td>\n",
       "    </tr>\n",
       "    <tr>\n",
       "      <td>387</td>\n",
       "      <td>DARK SOULS™ III</td>\n",
       "    </tr>\n",
       "  </tbody>\n",
       "</table>\n",
       "</div>"
      ],
      "text/plain": [
       "                        name\n",
       "187  DARK SOULS™: REMASTERED\n",
       "387          DARK SOULS™ III"
      ]
     },
     "execution_count": 59,
     "metadata": {},
     "output_type": "execute_result"
    }
   ],
   "source": [
    "df[df[\"name\"].str.contains(\"DARK SOULS\")]"
   ]
  },
  {
   "cell_type": "code",
   "execution_count": 60,
   "metadata": {},
   "outputs": [
    {
     "data": {
      "text/html": [
       "<div>\n",
       "<style scoped>\n",
       "    .dataframe tbody tr th:only-of-type {\n",
       "        vertical-align: middle;\n",
       "    }\n",
       "\n",
       "    .dataframe tbody tr th {\n",
       "        vertical-align: top;\n",
       "    }\n",
       "\n",
       "    .dataframe thead th {\n",
       "        text-align: right;\n",
       "    }\n",
       "</style>\n",
       "<table border=\"1\" class=\"dataframe\">\n",
       "  <thead>\n",
       "    <tr style=\"text-align: right;\">\n",
       "      <th></th>\n",
       "      <th>name</th>\n",
       "    </tr>\n",
       "  </thead>\n",
       "  <tbody>\n",
       "    <tr>\n",
       "      <td>99</td>\n",
       "      <td>Factorio</td>\n",
       "    </tr>\n",
       "  </tbody>\n",
       "</table>\n",
       "</div>"
      ],
      "text/plain": [
       "        name\n",
       "99  Factorio"
      ]
     },
     "execution_count": 60,
     "metadata": {},
     "output_type": "execute_result"
    }
   ],
   "source": [
    "df[df[\"name\"].str.contains(\"Factor\")]"
   ]
  },
  {
   "cell_type": "code",
   "execution_count": 61,
   "metadata": {},
   "outputs": [],
   "source": [
    "my_fav_games_idx = [187, 387, 99]"
   ]
  },
  {
   "cell_type": "code",
   "execution_count": 62,
   "metadata": {},
   "outputs": [],
   "source": [
    "idxs = list(range(27))"
   ]
  },
  {
   "cell_type": "code",
   "execution_count": 63,
   "metadata": {},
   "outputs": [],
   "source": [
    "for i in my_fav_games_idx:\n",
    "    idxs.append(i)"
   ]
  },
  {
   "cell_type": "code",
   "execution_count": 64,
   "metadata": {},
   "outputs": [
    {
     "data": {
      "image/png": "[encoded data removed]",
      "text/plain": [
       "<Figure size 1080x1080 with 1 Axes>"
      ]
     },
     "metadata": {
      "needs_background": "light"
     },
     "output_type": "display_data"
    }
   ],
   "source": [
    "X = fac0[idxs]\n",
    "Y = fac1[idxs]\n",
    "plt.figure(figsize=(15,15))\n",
    "plt.scatter(X, Y)\n",
    "for i, x, y in zip(games_most_reviews[idxs], X, Y):\n",
    "    plt.text(x,y,i, color=np.random.rand(3)*0.7, fontsize=11)\n",
    "plt.show()"
   ]
  },
  {
   "cell_type": "code",
   "execution_count": null,
   "metadata": {},
   "outputs": [],
   "source": []
  }
 ],
 "metadata": {
  "kernelspec": {
   "display_name": "Python 3",
   "language": "python",
   "name": "python3"
  },
  "language_info": {
   "codemirror_mode": {
    "name": "ipython",
    "version": 3
   },
   "file_extension": ".py",
   "mimetype": "text/x-python",
   "name": "python",
   "nbconvert_exporter": "python",
   "pygments_lexer": "ipython3",
   "version": "3.7.4"
  },
  "varInspector": {
   "cols": {
    "lenName": 16,
    "lenType": 16,
    "lenVar": 40
   },
   "kernels_config": {
    "python": {
     "delete_cmd_postfix": "",
     "delete_cmd_prefix": "del ",
     "library": "var_list.py",
     "varRefreshCmd": "print(var_dic_list())"
    },
    "r": {
     "delete_cmd_postfix": ") ",
     "delete_cmd_prefix": "rm(",
     "library": "var_list.r",
     "varRefreshCmd": "cat(var_dic_list()) "
    }
   },
   "types_to_exclude": [
    "module",
    "function",
    "builtin_function_or_method",
    "instance",
    "_Feature"
   ],
   "window_display": false
  }
 },
 "nbformat": 4,
 "nbformat_minor": 2
}
